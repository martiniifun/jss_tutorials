{
 "cells": [
  {
   "cell_type": "markdown",
   "source": [
    "# 1. 개발환경 세팅\n",
    "\n",
    "\n",
    "## 1.1. 버전\n",
    "\n",
    "이 챕터는 YOLO 강의 전 \n",
    "\n",
    "개발환경세팅 및 아주 기초적인 파이썬 문법에 대해 다룰 예정입니다.\n",
    "\n",
    "우선 운영체제는 윈도우/리눅스 무관합니다. 편하신 걸 쓰세요.\n",
    "\n",
    "다만 파이썬은 3.12 이상 버전을 쓰지 마세요. (호환문제가 있습니다.)\n",
    "\n",
    "리눅스 배포판 대부분은 파이썬 3.10이 기본으로 설치되어 있으므로 \n",
    "\n",
    "우리 실습도 가급적 3.10으로 통일하겠습니다. (3.11도 무관합니다.)\n",
    "\n",
    "\n",
    "## 1.2. 가상환경\n",
    "\n",
    "로컬 환경에서 개발을 시작하신다면\n",
    "\n",
    "가급적 파이썬 가상환경을 활성화하시는 것을 추천드립니다.\n",
    "\n",
    "리셋하기도 쉽고,\n",
    "\n",
    "다른 프로젝트와의 라이브러리 충돌이 일어나지도 않고,\n",
    "\n",
    "특히 버전 충돌에 따른 문제를 미연에 방지할 수 있기 때문입니다.\n",
    "\n",
    "가상환경을 설치하려면 아래 과정을 따라하시면 됩니다.\n",
    "\n",
    "1. 프로젝트 폴더(yolo_tutorial)를 만드시고 그 경로에서 터미널 또는 커맨드프롬프트를 열어주세요.\n",
    "\n",
    "2. 리눅스에서는 아래 명령어를 실행합니다.\n",
    "\n",
    "```\n",
    "python3 -m venv yolo_venv\n",
    "```\n",
    "\n",
    "> python3-venv 등의 라이브러리를 설치해야 한다는 오류메시지가 뜨는 경우가 있습니다. \n",
    "> 그 경우에는 안내메시지를 따라 해당 라이브러리 설치 후 위 명령어를 재실행해주시기 바랍니다.\n",
    "\n",
    "윈도우에서는 python3 대신 python이라고만 입력하시면 됩니다.\n",
    "\n",
    "```\n",
    "python -m venv yolo_venv\n",
    "```\n",
    "\n",
    "이제 가상환경 설치가 완료되었습니다.\n",
    "\n",
    "라이브러리 설치나 코드 실행은 항상 가상환경을 활성화한 후에 진행해야 합니다.\n",
    "\n",
    "우리가 설치할 라이브러리는 YOLO를 실행하기 위한 `ultralytics`와 \n",
    "\n",
    "주피터노트북 파일을 편집하고 실행하기 위한 `jupyter` 두 가지입니다.\n",
    "\n",
    "이밖에도 몇 가지 설치할 라이브러리가 있지만, 프로젝트를 진행하면서\n",
    "\n",
    "필요한 만큼만 설치를 진행하겠습니다.\n",
    "\n",
    "```\n",
    "source ./yolo_venv/bin/activate\n",
    "pip3 install ultralytics jupyter\n",
    "```\n",
    "\n",
    "윈도우에서는 가상환경 실행 명령이 약간 다릅니다.\n",
    "\n",
    "pip3 대신 pip로 실행하시면 됩니다.\n",
    "\n",
    "```\n",
    "yolo_venv\\scripts\\activate\n",
    "pip install ultralytics\n",
    "```\n",
    "\n",
    "이상입니다.\n",
    "\n",
    "이제 YOLO를 사용할 준비를 마쳤습니다.\n",
    "\n",
    "> 우리가 이번에 사용할 YOLO 버전은 8입니다.\n",
    "> 기존에는 개인 또는 비영리 기관에서 초기 YOLO에서부터 v7까지 개발해 왔는데\n",
    "> v8은 ultralytics라는 기업이 담당하면서, 유지보수나 라벨링 프로그램과의 연동까지 \n",
    "> 굉장히 원활하고 쾌적하게 개발이 되고 있습니다."
   ],
   "metadata": {
    "collapsed": false
   },
   "id": "513dce7a8a17d045"
  },
  {
   "cell_type": "markdown",
   "source": [
    "# 2. 주피터노트북 사용법\n",
    "\n",
    "## 2.1. 주피터노트북이란?\n",
    "\n",
    "지금 여러분이 보시는 화면이 주피터노트북(이하 노트북)입니다.\n",
    "\n",
    "파이썬은 C나 자바와는 다르게 한 줄씩 명령어를 실행하면서\n",
    "\n",
    "채팅하듯이 프로그램을 개발할 수 있다는 장점이 있습니다.\n",
    "\n",
    "그런데 py 파일로 편집하면서 프로그램을 개발할 때에는 \n",
    "\n",
    "IDE의 도움을 받지 않는 한, 그 편리함을 극대화하기 어렵습니다.\n",
    "\n",
    "그래서 ipython이나 qtconsole 등이 개발되었고,\n",
    "\n",
    "ipython-notebook이라는 모듈이 만들어졌다가 \n",
    "\n",
    "최근 개발된 모듈이 jupyter-notebook이라는 도구입니다.\n",
    "\n",
    "## 2.2. 주피터노트북의 장단점\n",
    "\n",
    "노트북으로 코드를 작성/실행할 때 **장점**은,\n",
    "\n",
    "1. 코드를 \"셀\" 단위로 구분하여 채팅하듯 별도로 실행할 수 있고,\n",
    "\n",
    "1. 코드셀 사이사이에 일종의 주석 개념인 \"마크다운 문서\"를 삽입할 수 있습니다.\n",
    "\n",
    "1. 브라우저 기반으로 차트 등의 이미지나 입력 다이얼로그를 삽입할 수 있습니다.\n",
    "\n",
    "이밖에도 많은 장점이 있지만 세 가지만 짧게 말씀드렸습니다.\n",
    "\n",
    "장점을 말씀드렸으니 **단점**도 조금만 알아봅시다.\n",
    "\n",
    "1. 백그라운드에서 웹서버가 실행되는 구조이며, 낮은 사양의 PC에서는 다소 느릴 수 있습니다.\n",
    "\n",
    "1. 작성된 노트북 자체를 프로그램이라고 부르기는 어렵습니다. 결국 py파일로 재작성하여 실행합니다.\n",
    "\n",
    "1. 노트북만의 문법이나, 마크다운 사용법, 셀 조작법 등 부가적으로 배울 게 많아 초반 진입장벽이 되기도 합니다.\n",
    "\n",
    "\n",
    "이런 몇 가지 단점에도 불구하고\n",
    "\n",
    "주피터노트북의 어마어마한 장점과 생산성 덕분에\n",
    "\n",
    "데이터 분석, 머신러닝 분야에서도 \n",
    "\n",
    "대부분의 개발자들이 노트북 기반으로 개발을 진행하고 문서화합니다.\n",
    "\n",
    "> 파이참과 인텔리제이 등 IDE로 유명한 젯브레인스에서는\n",
    "> 아예 주피터노트북 전용으로 데이터스펠이라는 IDE를 출시하기도 했습니다.\n",
    "\n",
    "## 2.3. 노트북의 간단한 사용법과 단축키\n",
    "\n",
    "노트북은 **탐색모드**와 **편집모드**, 두 가지 상태가 있습니다.\n",
    "\n",
    "셀 안에서 캐럿이 깜빡이는 상태가 **\"편집모드\"**이며, \n",
    "\n",
    "`Esc`를 한 번 누르면 캐럿이 없어지고 셀 단위로 이동할 수 있는 **\"탐색모드\"**가 됩니다.\n",
    "\n",
    "**탐색모드**에서 편집할 셀에 대고 `엔터`를 한 번 누르면 다시 **\"편집모드\"**가 됩니다.\n",
    "\n",
    "> **탐색모드**에서는 특정 키를 누르면 셀을 지우거나 추가할 수 있으므로 주의하셔야 합니다.\n",
    "\n",
    "탐색모드(Esc를 누른 상태)에서 기본 단축키는 아래와 같습니다.\n",
    "\n",
    "- a : 현재 셀 위(Above)에 빈 셀을 추가 [코랩에서는 Ctrl M A]\n",
    "- b : 현재 셀 아래(Below)에 빈 셀을 추가 [코랩에서는 Ctrl M B]\n",
    "- dd : 현재 선택된 셀 제거 [코랩에서는 Ctrl M D]\n",
    "- c : 셀 복사\n",
    "- v : 셀 붙여넣기\n",
    "- x : 셀 잘라내기\n",
    "- m : 코드 셀을 마크다운(Markdown) 셀로 변환 [코랩에서는 Ctrl M\n",
    "- y : 마크다운 셀을 코드 셀로 변환 [코랩에서는 Ctrl M Y]\n",
    "- r : plain text 셀로 변환(Raw) [코랩에서는 Ctrl M M]\n",
    "- Shift M : (여러 셀을 선택한 상태에서) 셀 병합\n",
    "- Ctrl Enter : 현재 셀 실행(편집모드에서도 동일)\n",
    "- Shift Enter : 현재 셀 실행 후 다음 셀로 이동(편집모드에서도 동일)\n",
    "\n",
    "> 개인적으로 탐색모드에서 많이 사용하는 단축키는 Shift Enter 와 dd 정도입니다.\n",
    "> 처음부터 단축키를 외우실 필요는 전혀 없습니다. \n",
    "> 메뉴나, 마우스로도 전부 실행가능하기 때문입니다.\n",
    "\n",
    "## 2.4. 마크다운 사용법 기초\n",
    "\n",
    "코드를 실행해보기 전에 마지막으로 마크다운에 대해\n",
    "\n",
    "정말 조금만 알려드리겠습니다.\n",
    "\n",
    "> 사실 마크다운 셀은, \n",
    "> 노트북으로 개발하시다 보면 필요하다고 느껴지는 시점이 있습니다.\n",
    "> 그 전엔 아래 부분을 읽지 마세요. 쓰지도 않을 거..\n",
    "\n",
    "마크다운은 간결하면서도 풍부한 문법지원을 통해 \n",
    "\n",
    "주석으로는 표현하기 어려운 이미지나 HTML, 하이퍼링크, LaTeX수식, 이력 등의 정보를 \n",
    "\n",
    "별도의 문서가 아닌 (코드와 분리된) 마크다운 셀 안에 고스란히 담을 수 있기 때문에\n",
    "\n",
    "매뉴얼이나 개발노트, 혹은 연구노트 등으로 다양하게 활용됩니다.\n",
    "\n",
    "아래 간단히 마크다운 문법을 나열해 두겠습니다. \n",
    "\n",
    "(읽지 않고 넘어가셔도 정말 괜찮습니다.)\n",
    "\n",
    "```\n",
    "*Italic* : 이탤릭\n",
    "**Bold** : 볼드\n",
    "# Heading1 : 제목수준1\n",
    "## Heading2 : 제목수준2\n",
    "### Heading3 : 제목수준3\n",
    "[링크제목](https://link.com) : 하이퍼링크(주소에 따옴표 넣지 않음)\n",
    "![이미지제목](https://url/img.png) : 이미지 삽입('이미지제목'은 대체문자열로 평소엔 보이지 않음)\n",
    "> Blockquote : 인용라인\n",
    "* List : 점기호 글머리(unordered list)\n",
    "1. : 숫자 글머리(ordered list)\n",
    "--- : 가로선\n",
    "`inline code` : 인라인코드(참고로 ``` 두 줄 사이의 코드는 \"코드 블록\"이 됨)\n",
    "<img src=\"..\" width=100px> : HTML태그 삽입 가능\n",
    "$a^2 + b^2 = c^2$ : 인라인 레이텍 수식\n",
    "$$E = mc^2$$ : 독립된라인의 레이텍 수식\n",
    "```\n",
    "\n",
    "여기까지입니다. 이제 코드를 실행해봅시다.\n",
    "\n"
   ],
   "metadata": {
    "collapsed": false
   },
   "id": "8f9961dc1069406a"
  },
  {
   "cell_type": "markdown",
   "source": [
    "# 3. 파이썬 문법 기초\n",
    "\n",
    "> 이 글은 파이썬 기초를 아는 분들을 대상으로 작성하였습니다.\n",
    "> 파이썬에 대해 전혀 모르신다면 별도의 포스팅이나 교재를 참고하실 것을 추천드립니다.\n",
    "> 점프투파이썬(https://wikidocs.net/book/1) 정도면 충분하다고 생각합니다.\n",
    "\n",
    "# 3.1. 자료형\n",
    "\n",
    "사실 파이썬 기본 자료형은 **문자열**과 **숫자**, 두 가지입니다.\n",
    "\n",
    "따옴표로 감싸졌으면 그 안에 뭐가 있든 문자열str입니다.\n",
    "\n",
    "숫자는 소숫점이 있는지 여부로 정수(int:인트라고 읽음)와 \n",
    "\n",
    "부동소수점수(float:플롯이라고 읽음)로 나뉘지만\n",
    "\n",
    "다른 프로그래밍 언어들처럼 그 경계가 뚜렷하지 않고, 유연하게 변환됩니다.\n",
    "\n",
    "그리고 이들을 여러 개 담을 수 있는 구조인\n",
    "\n",
    "리스트(list), 사전(dict:딕트라고 읽음)이 있습니다.\n",
    "\n",
    "list는 `l = [\"a\", \"b\", \"c\", 4, 5, 6.6]` 방식으로 정의합니다.\n",
    "\n",
    "값을 꺼낼 때 `l[idx]` 은 리스트 l의 idx번째 요소를 반환합니다.\n",
    "\n",
    "아주아주 중요한 사실이 하나 있는데, 인덱스는 0부터 시작합니다.\n",
    "\n",
    "예를 들어 `print(l[2])`를 입력하고 셀을 실행하면 \n",
    "\n",
    "셀 밑에 세 번째 값인 c가 출력됩니다."
   ],
   "metadata": {
    "collapsed": false
   },
   "id": "20594b0294ab65eb"
  },
  {
   "cell_type": "code",
   "outputs": [
    {
     "name": "stdout",
     "output_type": "stream",
     "text": [
      "c\n"
     ]
    }
   ],
   "source": [
    "l = [\"a\", \"b\", \"c\", 4, 5, 6.6]\n",
    "\n",
    "print(l[2])"
   ],
   "metadata": {
    "collapsed": false,
    "ExecuteTime": {
     "end_time": "2024-01-29T16:27:13.302949700Z",
     "start_time": "2024-01-29T16:27:13.250436300Z"
    }
   },
   "id": "9d3a69e8ae7ea0b",
   "execution_count": 22
  },
  {
   "cell_type": "markdown",
   "source": [
    "list의 가장 큰 특징을 꼽으라면 \n",
    "\n",
    "\"이래도 되나 싶을만큼 자유롭다\"는 점일 것입니다. \n",
    "\n",
    "리스트의 앞이나 뒤, 중간에 새로운 값을 삽입(append)하거나 \n",
    "\n",
    "값 또는 인덱스를 통해 제거(pop / remove)할 수 있고\n",
    "\n",
    "내 맘대로 임의의 규칙(key)으로 정렬(sort / sorted)도 가능합니다."
   ],
   "metadata": {
    "collapsed": false
   },
   "id": "7772f879eaad53c5"
  },
  {
   "cell_type": "code",
   "outputs": [
    {
     "name": "stdout",
     "output_type": "stream",
     "text": [
      "['a', 'b', 'c', 4, 5, 6.6, 'z']\n"
     ]
    }
   ],
   "source": [
    "l.append(\"z\")\n",
    "\n",
    "print(l)  # 끝에 \"z\"가 추가됨"
   ],
   "metadata": {
    "collapsed": false,
    "ExecuteTime": {
     "end_time": "2024-01-29T16:27:13.354139600Z",
     "start_time": "2024-01-29T16:27:13.308958900Z"
    }
   },
   "id": "40941d85f85e7740",
   "execution_count": 23
  },
  {
   "cell_type": "code",
   "outputs": [
    {
     "name": "stdout",
     "output_type": "stream",
     "text": [
      "['a', 'b', 4, 5, 6.6, 'z']\n"
     ]
    }
   ],
   "source": [
    "l.remove(\"c\")\n",
    "\n",
    "print(l)  # \"c\"가 없어짐"
   ],
   "metadata": {
    "collapsed": false,
    "ExecuteTime": {
     "end_time": "2024-01-29T16:27:13.390083600Z",
     "start_time": "2024-01-29T16:27:13.357045400Z"
    }
   },
   "id": "ff46b4a27d26534d",
   "execution_count": 24
  },
  {
   "cell_type": "code",
   "outputs": [
    {
     "data": {
      "text/plain": "['a', 'b', 4, 'mid', 5, 6.6, 'z']"
     },
     "execution_count": 25,
     "metadata": {},
     "output_type": "execute_result"
    }
   ],
   "source": [
    "l.insert(3, \"mid\")  # 3번 인덱스 자리에 \"mid\" 삽입\n",
    "\n",
    "l  # (노트북 안에서는 print 없이도 셀의 마지막 라인의 리턴값을 보여줌)"
   ],
   "metadata": {
    "collapsed": false,
    "ExecuteTime": {
     "end_time": "2024-01-29T16:27:13.420812700Z",
     "start_time": "2024-01-29T16:27:13.393648300Z"
    }
   },
   "id": "4ce6c4920a2e6882",
   "execution_count": 25
  },
  {
   "cell_type": "markdown",
   "source": [
    "\n",
    "그리고 이밖에도 다양한 메서드가 있지만, 딱 이 정도면 충분하겠습니다.\n",
    "\n",
    "그리고 우리 예제에서는 새로운 리스트를 생성하거나 가공/조작하기보다는,\n",
    "\n",
    "만들어진 리스트를 조회하거나 자르는 작업이 대부분일 것입니다. \n",
    " "
   ],
   "metadata": {
    "collapsed": false
   },
   "id": "c00ea645aef271a0"
  },
  {
   "cell_type": "code",
   "outputs": [
    {
     "data": {
      "text/plain": "['mid', 5, 6.6]"
     },
     "execution_count": 26,
     "metadata": {},
     "output_type": "execute_result"
    }
   ],
   "source": [
    "l[3:6]  # 3번 인덱스 이상 6번 인덱스 미만의 데이터 3개만 리턴 "
   ],
   "metadata": {
    "collapsed": false,
    "ExecuteTime": {
     "end_time": "2024-01-29T16:27:13.478462Z",
     "start_time": "2024-01-29T16:27:13.424322Z"
    }
   },
   "id": "9426f5de807167ea",
   "execution_count": 26
  },
  {
   "cell_type": "markdown",
   "source": [
    "\n",
    "list에 대한 설명은 이걸로 마치겠습니다.\n",
    "\n",
    "tuple이라는 \"불변\"자료형이 있는데, \n",
    "\n",
    "list와 형태는 비슷하지만, 가공할 수 없습니다.\n",
    "\n",
    "대신 조회나 슬라이싱은 list와 동일하게 가능합니다.\n"
   ],
   "metadata": {
    "collapsed": false
   },
   "id": "7e76faba7883404d"
  },
  {
   "cell_type": "code",
   "outputs": [
    {
     "data": {
      "text/plain": "(3, 4, 5)"
     },
     "execution_count": 27,
     "metadata": {},
     "output_type": "execute_result"
    }
   ],
   "source": [
    "t = (1, 2, 3, 3, 3, 3, 4, 5)\n",
    "\n",
    "t[5:]"
   ],
   "metadata": {
    "collapsed": false,
    "ExecuteTime": {
     "end_time": "2024-01-29T16:27:13.479575600Z",
     "start_time": "2024-01-29T16:27:13.443363500Z"
    }
   },
   "id": "336d36f2e55487e9",
   "execution_count": 27
  },
  {
   "cell_type": "code",
   "outputs": [
    {
     "data": {
      "text/plain": "4"
     },
     "execution_count": 28,
     "metadata": {},
     "output_type": "execute_result"
    }
   ],
   "source": [
    "t.count(3)  # t 안에 3이 몇 개 있어?"
   ],
   "metadata": {
    "collapsed": false,
    "ExecuteTime": {
     "end_time": "2024-01-29T16:27:13.519911700Z",
     "start_time": "2024-01-29T16:27:13.483125100Z"
    }
   },
   "id": "85e7f00ecf30535e",
   "execution_count": 28
  },
  {
   "cell_type": "markdown",
   "source": [
    "\n",
    "강력한 list 하나면 왠만한 프로그래밍은 다 끝내버릴 수 있겠는데?\n",
    "\n",
    "싶기도 하지만, list도 쓰다 보면 아쉬운 점이 보입니다.\n",
    "\n",
    "**\"몇 번째 값이 무엇을 뜻하는지 알기 어렵다\"**는 점입니다.\n",
    "\n",
    "간단한 예로, 우리 반 \"류은희\" 학생의 \"국어\" 점수를 조회하고 싶은데\n",
    "\n",
    "학생들의 성적데이터가 아래처럼 리스트로 만들어져 있다면?\n",
    " "
   ],
   "metadata": {
    "collapsed": false
   },
   "id": "275c6a4e668008d6"
  },
  {
   "cell_type": "code",
   "outputs": [],
   "source": [
    "names = [\"오정민\", \"이현아\", \"류은희\", \"전현희\",\n",
    "         \"이봉희\", \"황수리\", \"장성숙\", \"신명진\"]\n",
    "\n",
    "scores = [\n",
    "    # 국어, 영어, 수학, 과학, 정보\n",
    "    [80, 90, 90, 90, 90],\n",
    "    [100, 60, 80, 80, 70],\n",
    "    [70, 60, 100, 80, 70],\n",
    "    [100, 60, 80, 80, 70],\n",
    "    [70, 60, 80, 80, 70],\n",
    "    [100, 60, 80, 80, 100],\n",
    "    [70, 60, 80, 80, 100],\n",
    "    [59, 59, 59, 59, 64],\n",
    "]"
   ],
   "metadata": {
    "collapsed": false,
    "ExecuteTime": {
     "end_time": "2024-01-29T16:27:13.559430Z",
     "start_time": "2024-01-29T16:27:13.526424Z"
    }
   },
   "id": "81af8a0f9475d474",
   "execution_count": 29
  },
  {
   "cell_type": "markdown",
   "source": [
    "\n",
    "어때요? 뭔가 짜내보면 가능은 할 것 같은데?\n",
    "\n",
    "한 번 짜보시겠어요?\n",
    "\n",
    "저는 아래와 같이 짜봤는데요.\n"
   ],
   "metadata": {
    "collapsed": false
   },
   "id": "3f49ebefaa1e2cb6"
  },
  {
   "cell_type": "code",
   "outputs": [
    {
     "name": "stdout",
     "output_type": "stream",
     "text": [
      "70\n"
     ]
    }
   ],
   "source": [
    "target = \"류은희\"\n",
    "\n",
    "print(scores[2][0])  # 또는 scores[names.index(target)][0]"
   ],
   "metadata": {
    "collapsed": false,
    "ExecuteTime": {
     "end_time": "2024-01-29T16:27:13.584059600Z",
     "start_time": "2024-01-29T16:27:13.561945400Z"
    }
   },
   "id": "b7d82dd94cef09c6",
   "execution_count": 30
  },
  {
   "cell_type": "markdown",
   "source": [
    "다소 직관적이지 않은 느낌이죠?\n",
    "\n",
    "단순히 `scores[\"류은희\"][\"국어\"]` 라고 입력하면\n",
    "\n",
    "점수가 뙇 나와주면 엄청 편할텐데?\n",
    "\n",
    "근데 그걸 dict라는 자료형이 해냅니다.\n",
    "\n",
    "dict는 [] 대신 아래와 같이 {}로 정의합니다.\n",
    " "
   ],
   "metadata": {
    "collapsed": false
   },
   "id": "6be0f53123009100"
  },
  {
   "cell_type": "code",
   "outputs": [],
   "source": [
    "score_dict = {\n",
    "    \"오정민\": {\"국어\": 80, \"영어\": 90, \"수학\": 90, \"과학\": 90, \"정보\": 90},\n",
    "    \"이현아\": {\"국어\": 100, \"영어\": 60, \"수학\": 80, \"과학\": 80, \"정보\": 70},\n",
    "    \"류은희\": {\"국어\": 70, \"영어\": 60, \"수학\": 100, \"과학\": 80, \"정보\": 70},\n",
    "    \"전현희\": {\"국어\": 100, \"영어\": 60, \"수학\": 80, \"과학\": 80, \"정보\": 70},\n",
    "    \"이봉희\": {\"국어\": 70, \"영어\": 60, \"수학\": 80, \"과학\": 80, \"정보\": 70},\n",
    "    \"황수리\": {\"국어\": 100, \"영어\": 60, \"수학\": 80, \"과학\": 80, \"정보\": 100},\n",
    "    \"장성숙\": {\"국어\": 70, \"영어\": 60, \"수학\": 80, \"과학\": 80, \"정보\": 100},\n",
    "    \"신명진\": {\"국어\": 59, \"영어\": 59, \"수학\": 59, \"과학\": 59, \"정보\": 64},\n",
    "}"
   ],
   "metadata": {
    "collapsed": false,
    "ExecuteTime": {
     "end_time": "2024-01-29T16:27:13.624379300Z",
     "start_time": "2024-01-29T16:27:13.592788300Z"
    }
   },
   "id": "dc2c0423229e4c46",
   "execution_count": 31
  },
  {
   "cell_type": "markdown",
   "source": [
    "> \"작성할 때 손이 많이 가겠군?\" 하고 느끼실 수도 있지만ㅜ\n",
    "> 그냥 예시로 보여드린 거지, \n",
    "> 저런 식으로 손으로 다 작성하는 일은 거의 드뭅니다.\n",
    "> 보통은 웹상에 입력된 값들이나 데이터베이스, \n",
    "> 혹은 엑셀, csv 등 파일에서 읽어온 데이터를 \n",
    "> dict로 변환해서 쓰는 경우가 대부분이었는데,\n",
    "> 그마저 요즘은 pandas라는 라이브러리가 대중화되면서\n",
    "> dict로 데이터를 가공하는 일은 거의 없어졌습니다.\n",
    "\n",
    "하여튼 score_dict에서 \"황수리\"님의 \"정보\"과목을 조회하는 방법이\n",
    "\n",
    "훨씬 편해졌습니다.\n",
    " "
   ],
   "metadata": {
    "collapsed": false
   },
   "id": "2b25469a41ae7349"
  },
  {
   "cell_type": "code",
   "outputs": [
    {
     "data": {
      "text/plain": "100"
     },
     "execution_count": 32,
     "metadata": {},
     "output_type": "execute_result"
    }
   ],
   "source": [
    "score_dict[\"황수리\"][\"정보\"]"
   ],
   "metadata": {
    "collapsed": false,
    "ExecuteTime": {
     "end_time": "2024-01-29T16:27:13.644413300Z",
     "start_time": "2024-01-29T16:27:13.628379200Z"
    }
   },
   "id": "d33ff297d79b0188",
   "execution_count": 32
  },
  {
   "cell_type": "markdown",
   "source": [
    "\n",
    "이렇게 인덱스 정수가 아니라 \n",
    "\n",
    "의미를 파악할 수 있는 \"키\"로 조회가능하다는 장점 덕분에\n",
    "\n",
    "dict는 list와 더불어 파이썬에서 가장 많이 쓰이는 자료형입니다.\n",
    "\n",
    "기본자료형의 메서드에 대해서도 상세히 미리 알려드리고 싶지만\n",
    "\n",
    "그러려면 교재 분량도 너무 많아지고요ㅜ\n",
    "\n",
    "강의시간도 터무니없이 길어져버릴 것 같습니다.\n",
    "\n",
    "파이썬 자료형에 대한 이야기는 여기서 마치고 아래 예제를 한 번 풀어보겠습니다.\n"
   ],
   "metadata": {
    "collapsed": false
   },
   "id": "ab1bf72b7dcf2540"
  },
  {
   "cell_type": "markdown",
   "source": [
    "## 예제1: CLOVA-OCR API의 결과 조회하기\n",
    "\n",
    "아래는 네이버의 CLOVA-OCR이라는 딥러닝 서비스를 이용해\n",
    "\n",
    "어떤 스캔문서 한 장을 네이버 클로바OCR이라는 서비스에 보내고, \n",
    "\n",
    "응답으로 받은 자료입니다.\n",
    "\n",
    "위에서 배운 list와 dict의 인덱싱을 이용해서\n",
    "\n",
    "아래 자료에서 예측문자열(\"inferText\")들만 리스트로 만들어서 출력해보시기 바랍니다.\n"
   ],
   "metadata": {
    "collapsed": false
   },
   "id": "62be1bc256fd96da"
  },
  {
   "cell_type": "code",
   "outputs": [],
   "source": [
    "result = {\n",
    "    'version': 'V2',\n",
    "    'requestId': 'd07c7558-c254-4421-8db6-c32cd5d4b300',\n",
    "    'timestamp': 1706546629353,\n",
    "    'images': [\n",
    "        {\n",
    "            'uid': 'fe50a0c22f334644991bdbc3952ddbf6',\n",
    "            'name': '',\n",
    "            'inferResult': 'SUCCESS',\n",
    "            'message': 'SUCCESS',\n",
    "            'validationResult': {'result': 'NO_REQUESTED'},\n",
    "            'convertedImageInfo': {\n",
    "                'width': 1487,\n",
    "                'height': 822,\n",
    "                'pageIndex': 0,\n",
    "                'longImage': False\n",
    "            },\n",
    "            'fields': [\n",
    "                {\n",
    "                    'valueType': 'ALL',\n",
    "                    'boundingPoly': {\n",
    "                        'vertices': [\n",
    "                            {'x': 139.0, 'y': 133.0},\n",
    "                            {'x': 279.0, 'y': 133.0},\n",
    "                            {'x': 279.0, 'y': 216.0},\n",
    "                            {'x': 139.0, 'y': 216.0}\n",
    "                        ]\n",
    "                    },\n",
    "                    'inferText': '이름',\n",
    "                    'inferConfidence': 1.0,\n",
    "                    'type': 'NORMAL',\n",
    "                    'lineBreak': False\n",
    "                },\n",
    "                {\n",
    "                    'valueType': 'ALL',\n",
    "                    'boundingPoly': {\n",
    "                        'vertices': [\n",
    "                            {'x': 312.0, 'y': 134.0},\n",
    "                            {'x': 514.0, 'y': 134.0},\n",
    "                            {'x': 514.0, 'y': 215.0},\n",
    "                            {'x': 312.0, 'y': 215.0}\n",
    "                        ]\n",
    "                    },\n",
    "                    'inferText': '신명진',\n",
    "                    'inferConfidence': 0.9998,\n",
    "                    'type': 'NORMAL',\n",
    "                    'lineBreak': True\n",
    "                },\n",
    "                {\n",
    "                    'valueType': 'ALL',\n",
    "                    'boundingPoly': {\n",
    "                        'vertices': [\n",
    "                            {'x': 138.0, 'y': 238.0},\n",
    "                            {'x': 274.0, 'y': 238.0},\n",
    "                            {'x': 274.0, 'y': 319.0},\n",
    "                            {'x': 138.0, 'y': 319.0}\n",
    "                        ]\n",
    "                    },\n",
    "                    'inferText': '나이',\n",
    "                    'inferConfidence': 1.0,\n",
    "                    'type': 'NORMAL',\n",
    "                    'lineBreak': False\n",
    "                },\n",
    "                {\n",
    "                    'valueType': 'ALL',\n",
    "                    'boundingPoly': {\n",
    "                        'vertices': [\n",
    "                            {'x': 369.0, 'y': 247.0},\n",
    "                            {'x': 458.0, 'y': 247.0},\n",
    "                            {'x': 458.0, 'y': 311.0},\n",
    "                            {'x': 369.0, 'y': 311.0}\n",
    "                        ]\n",
    "                    },\n",
    "                    'inferText': '40',\n",
    "                    'inferConfidence': 1.0,\n",
    "                    'type': 'NORMAL',\n",
    "                    'lineBreak': True\n",
    "                },\n",
    "                {\n",
    "                    'valueType': 'ALL',\n",
    "                    'boundingPoly': {\n",
    "                        'vertices': [\n",
    "                            {'x': 137.0, 'y': 339.0},\n",
    "                            {'x': 274.0, 'y': 339.0},\n",
    "                            {'x': 274.0, 'y': 424.0},\n",
    "                            {'x': 137.0, 'y': 424.0}\n",
    "                        ]\n",
    "                    },\n",
    "                    'inferText': '취미',\n",
    "                    'inferConfidence': 1.0,\n",
    "                    'type': 'NORMAL',\n",
    "                    'lineBreak': False\n",
    "                },\n",
    "                {\n",
    "                    'valueType': 'ALL',\n",
    "                    'boundingPoly': {\n",
    "                        'vertices': [\n",
    "                            {'x': 344.0, 'y': 341.0},\n",
    "                            {'x': 481.0, 'y': 341.0},\n",
    "                            {'x': 481.0, 'y': 420.0},\n",
    "                            {'x': 344.0, 'y': 420.0}\n",
    "                        ]\n",
    "                    },\n",
    "                    'inferText': '코딩',\n",
    "                    'inferConfidence': 0.9994,\n",
    "                    'type': 'NORMAL',\n",
    "                    'lineBreak': True\n",
    "                }\n",
    "            ]\n",
    "        }\n",
    "    ]\n",
    "}"
   ],
   "metadata": {
    "collapsed": false,
    "ExecuteTime": {
     "end_time": "2024-01-29T16:49:45.163168500Z",
     "start_time": "2024-01-29T16:49:45.133266300Z"
    }
   },
   "id": "ed658b8300e11d7d",
   "execution_count": 41
  },
  {
   "cell_type": "code",
   "outputs": [
    {
     "name": "stdout",
     "output_type": "stream",
     "text": [
      "['이름', '신명진', '나이', '40', '취미', '코딩'] "
     ]
    }
   ],
   "source": [
    "# 예시답안\n",
    "\n",
    "infer_list = []\n",
    "for i in result[\"images\"][0][\"fields\"]:\n",
    "    infer_list.append(i[\"inferText\"])\n",
    "print(infer_list, end=\" \")"
   ],
   "metadata": {
    "collapsed": false,
    "ExecuteTime": {
     "end_time": "2024-01-29T16:56:55.395859700Z",
     "start_time": "2024-01-29T16:56:55.367124600Z"
    }
   },
   "id": "8cb609b64cffc118",
   "execution_count": 45
  },
  {
   "cell_type": "code",
   "outputs": [
    {
     "name": "stdout",
     "output_type": "stream",
     "text": [
      "['이름', '신명진', '나이', '40', '취미', '코딩']\n"
     ]
    }
   ],
   "source": [
    "# 팁(리스트컴프리헨션 : 파이썬에서는 리스트 안에 for문이나 if-else문 삽입 가능)\n",
    "\n",
    "infer_list = [i[\"inferText\"] for i in result[\"images\"][0][\"fields\"]]\n",
    "print(infer_list)"
   ],
   "metadata": {
    "collapsed": false,
    "ExecuteTime": {
     "end_time": "2024-01-29T17:02:51.929541900Z",
     "start_time": "2024-01-29T17:02:51.911280300Z"
    }
   },
   "id": "7eddba8da5914957",
   "execution_count": 46
  },
  {
   "cell_type": "markdown",
   "source": [
    "\n",
    "## 3.2. 함수와 메서드\n",
    "\n",
    "C++이나 자바를 다뤄보신 분들이라면 차이를 명확하게 아실 부분이겠지만\n",
    "\n",
    "`print(\"Hello world\")`에서 print는 **함수**입니다.\n",
    "\n",
    "`\"Hello world\".replace(\" \", \"_\")`에서 replace는 **메서드**입니다.\n",
    "\n",
    "함수나 메서드는 둘 다 끝에 **괄호**를 붙여서 호출합니다.\n",
    "\n",
    "괄호 안에는 파라미터가 들어가기도 하고 그렇지 않기도 합니다.\n",
    "\n",
    "메서드는, 함수와 비슷하게 어떤 기능을 수행하지만 \n",
    "\n",
    "특정 자료형의 클래스 **안에서** 미리 정의된 함수라고 보시면 됩니다.\n",
    "\n",
    "제가 강의 중에 \"메서드\"라는 용어를 자주 쓰게 될 텐데,\n",
    "\n",
    "그냥 자료형 안에 정의된 함수라고 생각하시면 됩니다.\n"
   ],
   "metadata": {
    "collapsed": false
   },
   "id": "9fba143e35b3758a"
  },
  {
   "cell_type": "markdown",
   "source": [
    "\n",
    "## 3.3. 파이썬의 제어문\n",
    "\n",
    "파이썬의 반복문, 조건문, 함수정의 등은 \n",
    "\n",
    "\"들여쓰기\"를 통해 영역을 구분합니다.\n",
    "\n",
    "아래는 제어문의 예시입니다. \n",
    "\n",
    "(설명은 생략하겠습니다.)\n"
   ],
   "metadata": {
    "collapsed": false
   },
   "id": "b24fda10e9bb704f"
  },
  {
   "cell_type": "code",
   "outputs": [
    {
     "name": "stdout",
     "output_type": "stream",
     "text": [
      "0 1 2 3 4 5 6 7 8 9 "
     ]
    }
   ],
   "source": [
    "# 반복문(0부터 9까지 출력)\n",
    "\n",
    "i = 0\n",
    "while i < 10:\n",
    "    print(i, end=\" \")\n",
    "    i += 1"
   ],
   "metadata": {
    "collapsed": false,
    "ExecuteTime": {
     "end_time": "2024-01-29T16:35:27.343027Z",
     "start_time": "2024-01-29T16:35:27.322598200Z"
    }
   },
   "id": "e8b043f5c1ed57d3",
   "execution_count": 33
  },
  {
   "cell_type": "code",
   "outputs": [
    {
     "name": "stdout",
     "output_type": "stream",
     "text": [
      "0 1 2 3 4 5 6 7 8 9 "
     ]
    }
   ],
   "source": [
    "i = 0\n",
    "while True:\n",
    "    if i == 10:\n",
    "        break\n",
    "    else:\n",
    "        print(i, end=\" \")\n",
    "        i += 1"
   ],
   "metadata": {
    "collapsed": false,
    "ExecuteTime": {
     "end_time": "2024-01-29T16:36:25.104775100Z",
     "start_time": "2024-01-29T16:36:25.086731400Z"
    }
   },
   "id": "9c553a019ba7a766",
   "execution_count": 36
  },
  {
   "cell_type": "code",
   "outputs": [
    {
     "name": "stdout",
     "output_type": "stream",
     "text": [
      "0 1 2 3 4 5 6 7 8 9 "
     ]
    }
   ],
   "source": [
    "for i in range(10):  # 10은 포함하지 않음\n",
    "    print(i, end=\" \")"
   ],
   "metadata": {
    "collapsed": false,
    "ExecuteTime": {
     "end_time": "2024-01-29T16:35:47.271455900Z",
     "start_time": "2024-01-29T16:35:47.248087600Z"
    }
   },
   "id": "abb9e4e0c35d20c2",
   "execution_count": 35
  },
  {
   "cell_type": "code",
   "outputs": [
    {
     "name": "stdout",
     "output_type": "stream",
     "text": [
      "0(짝수) 1(홀수) 2(짝수) 3(3의배수) 4(짝수) 5(홀수) 6(짝수) 7(홀수) 8(짝수) 9(3의배수) "
     ]
    }
   ],
   "source": [
    "# 조건문(if, elif, else)\n",
    "for i in range(10):\n",
    "    if i % 2 == 0:  # 짝수이면\n",
    "        print(f\"{i}(짝수)\", end=\" \")\n",
    "    elif i % 3 == 0:  # 홀수 중 3의 배수이면\n",
    "        print(f\"{i}(3의배수)\", end=\" \")\n",
    "    else:  # 그 외의 모든 경우는\n",
    "        print(f\"{i}(홀수)\", end=\" \")"
   ],
   "metadata": {
    "collapsed": false,
    "ExecuteTime": {
     "end_time": "2024-01-29T16:41:02.549979300Z",
     "start_time": "2024-01-29T16:41:02.521292200Z"
    }
   },
   "id": "f9b7ab82fe80fb98",
   "execution_count": 39
  },
  {
   "cell_type": "markdown",
   "source": [
    "> 위 코드에서 재미있는 문법이 하나 들어있습니다.\n",
    "> f스트링이라는 문법인데요. 따옴표 앞에 f를 붙이고,\n",
    "> 그 안에 중괄호로 둘러싸인 부분은, 변수든 계산식이든 그 결과가 치환되어 입력됩니다.\n",
    "\n",
    "# 4. 파이썬 기초를 마치며\n",
    "\n",
    "\"이걸론 턱없이 부족하다\" 싶은 마음이 있는데요.\n",
    "\n",
    "여러분이 제 강의와 별도로, \n",
    "\n",
    "꼭 파이썬에 대한 기초문법을 익혀보시기를 바랍니다.\n",
    "\n",
    "이 강의의 목적은 YOLO를 활용하기 위함이지만, \n",
    "\n",
    "파이썬 기초가 발목을 잡게 된다면 정말 안타까울 것 같습니다.\n",
    "\n",
    "여러분이 해오셨던 C나 C++, 자바가 훨씬 어렵습니다.\n",
    "\n",
    "파이썬은 머신러닝이나 딥러닝이 급부상하기 전,\n",
    "\n",
    "대략 2015년? 까지는 Toy Language라고 놀림받았을 정도로\n",
    "\n",
    "문법 자체는 훨씬 간단하고 가볍기 때문입니다.\n",
    "\n",
    "그럼 다음 자료에서는 YOLO의 완전 기본 사용법부터 다뤄보겠습니다.\n",
    "\n",
    "(계속)"
   ],
   "metadata": {
    "collapsed": false
   },
   "id": "8a31b4da79ebf07a"
  },
  {
   "cell_type": "markdown",
   "source": [],
   "metadata": {
    "collapsed": false
   },
   "id": "e7b77f768187a74d"
  }
 ],
 "metadata": {
  "kernelspec": {
   "display_name": "Python 3",
   "language": "python",
   "name": "python3"
  },
  "language_info": {
   "codemirror_mode": {
    "name": "ipython",
    "version": 2
   },
   "file_extension": ".py",
   "mimetype": "text/x-python",
   "name": "python",
   "nbconvert_exporter": "python",
   "pygments_lexer": "ipython2",
   "version": "2.7.6"
  }
 },
 "nbformat": 4,
 "nbformat_minor": 5
}
