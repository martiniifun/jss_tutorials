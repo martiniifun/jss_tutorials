{
 "cells": [
  {
   "cell_type": "markdown",
   "id": "7190fb6a12c5e31e",
   "metadata": {
    "collapsed": false,
    "jupyter": {
     "outputs_hidden": false
    }
   },
   "source": [
    "# 좀 더 디테일하게 모델을 활용하는 방법\n",
    "\n",
    "이전 챕터에서는 기본 파라미터만 가지고\n",
    "\n",
    "추론작업을 수행했습니다.\n",
    "\n",
    "YOLO 모델에서 기본 제공하는 다양한 파라미터와 리턴값을 통해\n",
    "\n",
    "애플리케이션을 만드는 것도 가능하지만,\n",
    "\n",
    "좀 더 구체적으로 옵션을 조정하거나 접근하고 싶은 경우에는\n",
    "\n",
    "아래 방식으로 코드를 짜기도 합니다.\n",
    "\n",
    "주석을 읽어보면서 아래 코드와 실행결과를 파악해 보시기 바랍니다."
   ]
  },
  {
   "cell_type": "code",
   "execution_count": null,
   "id": "3a3f16485de5975f",
   "metadata": {
    "collapsed": false,
    "jupyter": {
     "outputs_hidden": false
    }
   },
   "outputs": [],
   "source": [
    "\"\"\"\n",
    "보안 관련 간단한 예시코드\n",
    "실시간 프레임별로 웹캠에 보이는 사람 수를 세서\n",
    "\"연-월-일 시:분:초:밀리초 : 사람수\" 포맷으로 \n",
    "count_log.txt 파일 남기기\n",
    "\"\"\"\n",
    "\n",
    "from ultralytics import YOLO  # pip install ultralytics\n",
    "import cv2  # pip install opencv-python\n",
    "import datetime as dt  # 로그파일 작성을 위해 datetime 임포트\n",
    "\n",
    "log_name = \"count_log.txt\"\n",
    "\n",
    "# 모델 정의\n",
    "model = YOLO(\"yolov8n.pt\")\n",
    "\n",
    "# 카메라 선택 및 설정\n",
    "camera = cv2.VideoCapture(0)\n",
    "camera.set(3, 640)  # 출력해상도(3:Width, 4:Height)\n",
    "camera.set(4, 480)\n",
    "\n",
    "while True:\n",
    "    success, img = camera.read()\n",
    "    results = model(img, show=True, save=True, stream=True,\n",
    "                    project=\"infer\", name=\"predict\")\n",
    "    # ↑ stream=True로 설정하면 list 대신 <generator> 반환\n",
    "\n",
    "    for result in results:\n",
    "        total_person_no = 0\n",
    "        boxes = result.boxes\n",
    "        for box in boxes:  # 각각의 박스 중\n",
    "            cls = int(box.cls[0])\n",
    "            if cls == 0:  # 클래스가 0(person)이면\n",
    "                total_person_no += 1\n",
    "        with open(log_name, \"a\") as f:\n",
    "            f.write(f\"{dt.datetime.now()} : {total_person_no}\\n\")\n",
    "\n",
    "    if cv2.waitKey(30) == ord('q'):  # q 누르면 종료\n",
    "        break\n",
    "\n",
    "camera.release()\n",
    "cv2.destroyAllWindows()"
   ]
  },
  {
   "cell_type": "markdown",
   "id": "60ac59d280767504",
   "metadata": {
    "collapsed": false,
    "jupyter": {
     "outputs_hidden": false
    }
   },
   "source": [
    "결과는 아래와 같습니다.\n",
    "\n",
    "![](https://i.ibb.co/DW3DT5d/210.png)"
   ]
  },
  {
   "cell_type": "markdown",
   "id": "9fc358cbd4c90c45",
   "metadata": {
    "collapsed": false,
    "jupyter": {
     "outputs_hidden": false
    }
   },
   "source": [
    "이번엔 조금 더 복잡한 예제입니다.\n",
    "\n",
    "일명, 추론결과에서 프레임별로 사람 수 세기 심화버전인데요.\n",
    "\n",
    "result 안의 데이터 실시간으로 다뤄보기,\n",
    "\n",
    "카메라 안에 사람이 있을 때에만\n",
    "\n",
    "엑셀파일 로그 및 해당이미지 저장하기 등의 기능을 추가해보았습니다.\n",
    "\n",
    "당장 이해가 되지 않아도 괜찮습니다. \n",
    "\n",
    "pandas의 DataFrame과 연동하여 로그를 저장하다가\n",
    "\n",
    "추론이 종료되면 엑셀파일로 저장하는 코드입니다.\n"
   ]
  },
  {
   "cell_type": "code",
   "execution_count": null,
   "id": "7ab2d5d9638ab766",
   "metadata": {
    "collapsed": false,
    "jupyter": {
     "outputs_hidden": false
    }
   },
   "outputs": [],
   "source": [
    "%pip install pandas openpyxl ultralytics opencv-python"
   ]
  },
  {
   "cell_type": "code",
   "execution_count": null,
   "id": "25cdcc761247fe02",
   "metadata": {
    "collapsed": false,
    "jupyter": {
     "outputs_hidden": false
    }
   },
   "outputs": [],
   "source": [
    "import os\n",
    "from time import sleep\n",
    "\n",
    "from ultralytics import YOLO  # pip install ultralytics\n",
    "import cv2  # pip install opencv-python\n",
    "import pandas as pd  # pip install pandas\n",
    "import datetime as dt\n",
    "\n",
    "try:\n",
    "    os.mkdir(\"log\")\n",
    "except FileExistsError:\n",
    "    pass\n",
    "\n",
    "start_time = dt.datetime.now()\n",
    "df = pd.DataFrame()\n",
    "\n",
    "camera = cv2.VideoCapture(0)\n",
    "camera.set(3, 640)  # Width\n",
    "camera.set(4, 480)  # Height\n",
    "\n",
    "model = YOLO(\"yolov8n.pt\")\n",
    "classNames = model.names\n",
    "# 기본 제공 레이블\n",
    "# {0: 'person', 1: 'bicycle', 2: 'car', 3: 'motorcycle', 4: 'airplane', 5: 'bus', 6: 'train',\n",
    "#  7: 'truck', 8: 'boat', 9: 'traffic light', 10: 'fire hydrant', 11: 'stop sign',\n",
    "#  12: 'parking meter', 13: 'bench', 14: 'bird', 15: 'cat', 16: 'dog', 17: 'horse', 18: 'sheep',\n",
    "#  19: 'cow', 20: 'elephant', 21: 'bear', 22: 'zebra', 23: 'giraffe', 24: 'backpack', 25: 'umbrella',\n",
    "#  26: 'handbag', 27: 'tie', 28: 'suitcase', 29: 'frisbee', 30: 'skis', 31: 'snowboard',\n",
    "#  32: 'sports ball', 33: 'kite', 34: 'baseball bat', 35: 'baseball glove', 36: 'skateboard',\n",
    "#  37: 'surfboard', 38: 'tennis racket', 39: 'bottle', 40: 'wine glass', 41: 'cup', 42: 'fork',\n",
    "#  43: 'knife', 44: 'spoon', 45: 'bowl', 46: 'banana', 47: 'apple', 48: 'sandwich', 49: 'orange',\n",
    "#  50: 'broccoli', 51: 'carrot', 52: 'hot dog', 53: 'pizza', 54: 'donut', 55: 'cake', 56: 'chair',\n",
    "#  57: 'couch', 58: 'potted plant', 59: 'bed', 60: 'dining table', 61: 'toilet', 62: 'tv',\n",
    "#  63: 'laptop', 64: 'mouse', 65: 'remote', 66: 'keyboard', 67: 'cell phone', 68: 'microwave',\n",
    "#  69: 'oven', 70: 'toaster', 71: 'sink', 72: 'refrigerator', 73: 'book', 74: 'clock', 75: 'vase',\n",
    "#  76: 'scissors', 77: 'teddy bear', 78: 'hair drier', 79: 'toothbrush'}\n",
    "\n",
    "while True:\n",
    "    sleep(0.5)  # 0.5초당 한 컷씩만 추론하기\n",
    "    _, img = camera.read()\n",
    "    results = model(img, stream=True)\n",
    "    # ↑ stream=True로 설정하면 <generator> 반환하므로 for문을 돌려야 함\n",
    "\n",
    "    #\n",
    "    for r in results:\n",
    "        boxes = r.boxes  # 박스정보 꺼내서(이게 우리가 분석할 대상)\n",
    "        # 직접 opencv로 박스도 그리고 레이블도 그려볼 것.\n",
    "        # 기본창도 YOLO에서 말고, 아래에서 opencv창으로 띄울 예정.\n",
    "\n",
    "        total_person_no = 0\n",
    "        for box in boxes:\n",
    "            # 바운딩박스 위치(좌상, 우하점 좌표) 추출\n",
    "            x1, y1, x2, y2 = box.xyxy[0]\n",
    "            x1, y1, x2, y2 = int(x1), int(y1), int(x2), int(y2)  # 소숫점 버림\n",
    "\n",
    "            # 직접 웹캠이미지에 네모 그리기\n",
    "            cv2.rectangle(img=img,\n",
    "                          pt1=(x1, y1),\n",
    "                          pt2=(x2, y2),\n",
    "                          color=(255, 0, 255),\n",
    "                          thickness=3)\n",
    "\n",
    "            # 박스에서 신뢰도 추출\n",
    "            confidence = box.conf[0]\n",
    "\n",
    "            # 박스에서 클래스 추출\n",
    "            cls = int(box.cls[0])\n",
    "\n",
    "            # 주석 작성\n",
    "            org = [x1, y1]  # 주석 작성할 좌표\n",
    "            font = cv2.FONT_HERSHEY_SIMPLEX\n",
    "            fontScale = 1\n",
    "            color = (255, 0, 0)\n",
    "            thickness = 2\n",
    "            cv2.putText(img, classNames[cls] + f\" {confidence:.02f}\", org, font, fontScale, color, thickness)\n",
    "\n",
    "            if cls == 0:  # 박스의 클래스가 \"person\"일 때만 아래 작업 수행\n",
    "                total_person_no += 1\n",
    "                # 로그용 데이터 취합\n",
    "                agg_data = [{\"time\": dt.datetime.now(),\n",
    "                             \"count\": total_person_no,\n",
    "                             \"x1\": x1, \"y1\": y1, \"x2\": x2, \"y2\": y2,\n",
    "                             \"conf\": f\"{confidence:.02f}\"}]\n",
    "                df = pd.concat([df, pd.DataFrame(agg_data)], ignore_index=True)\n",
    "\n",
    "        if total_person_no > 0:  # 화면에 사람이 있을 때만 이미지 저장\n",
    "            cv2.imwrite(filename=f\".q/{dt.datetime.now():%Y-%m-%d-%H%M%S}_{total_person_no}.jpg\",\n",
    "                        img=img)\n",
    "\n",
    "    cv2.imshow(winname='Webcam', mat=img)  # opencv 창에 이미지 갱신\n",
    "    if cv2.waitKey(1) == ord('q'):\n",
    "        break\n",
    "\n",
    "camera.release()\n",
    "cv2.destroyAllWindows()\n",
    "df.to_excel(f\"log_{start_time:%Y-%m-%d-%H-%M-%S}.xlsx\", index=False)"
   ]
  },
  {
   "cell_type": "markdown",
   "id": "9957a8a9ac4d7896",
   "metadata": {
    "collapsed": false,
    "jupyter": {
     "outputs_hidden": false
    }
   },
   "source": [
    "위 코드를 실행하고 나면 아래와 같은 엑셀파일이 만들어져 있습니다.\n",
    "\n",
    "![](https://i.ibb.co/jMqLLTj/211.png)\n",
    "\n",
    "엑셀파일이나 데이터프레임을 통해서\n",
    "\n",
    "보다 심도있는 데이터분석 작업을 수행할 수도 있겠습니다.\n",
    "\n",
    "끝."
   ]
  },
  {
   "cell_type": "markdown",
   "id": "82316268d487d714",
   "metadata": {
    "collapsed": false,
    "jupyter": {
     "outputs_hidden": false
    }
   },
   "source": [
    "# 마치며\n",
    "\n",
    "짧은 챕터였지만,\n",
    "\n",
    "object detection 과 관련해서는 이 정도면 충분한 것 같습니다.\n",
    "\n",
    "다음 챕터는 내 모니터화면을 소스삼아 추론하는 간단한 예제를 진행해보고\n",
    "\n",
    "마치겠습니다.\n",
    "\n",
    "수고하셨습니다!\n"
   ]
  }
 ],
 "metadata": {
  "kernelspec": {
   "display_name": "Python 3 (ipykernel)",
   "language": "python",
   "name": "python3"
  },
  "language_info": {
   "codemirror_mode": {
    "name": "ipython",
    "version": 3
   },
   "file_extension": ".py",
   "mimetype": "text/x-python",
   "name": "python",
   "nbconvert_exporter": "python",
   "pygments_lexer": "ipython3",
   "version": "3.10.11"
  }
 },
 "nbformat": 4,
 "nbformat_minor": 5
}
