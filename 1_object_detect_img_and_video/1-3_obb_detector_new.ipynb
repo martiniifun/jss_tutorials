{
 "cells": [
  {
   "cell_type": "code",
   "execution_count": 1,
   "id": "initial_id",
   "metadata": {
    "collapsed": true,
    "ExecuteTime": {
     "end_time": "2024-02-03T03:05:15.588584300Z",
     "start_time": "2024-02-03T03:05:09.152100100Z"
    }
   },
   "outputs": [
    {
     "name": "stdout",
     "output_type": "stream",
     "text": [
      "Downloading https://github.com/ultralytics/assets/releases/download/v8.1.0/yolov8n-obb.pt to 'yolov8n-obb.pt'...\n"
     ]
    },
    {
     "name": "stderr",
     "output_type": "stream",
     "text": [
      "100%|██████████| 6.24M/6.24M [00:00<00:00, 26.1MB/s]\n"
     ]
    },
    {
     "name": "stdout",
     "output_type": "stream",
     "text": [
      "image 1/1 C:\\Users\\Administrator\\PycharmProjects\\jss_tutorials\\1_object_detect_img_and_video\\faces.jpg: 1024x704 191.8ms\n",
      "Speed: 6.7ms preprocess, 191.8ms inference, 6.3ms postprocess per image at shape (1, 3, 1024, 704)\n",
      "Results saved to \u001B[1mC:\\Users\\Administrator\\PycharmProjects\\jss_tutorials\\runs\\obb\\predict\u001B[0m\n"
     ]
    }
   ],
   "source": [
    "from ultralytics import YOLO\n",
    "\n",
    "model = YOLO(\"yolov8n-obb.pt\")\n",
    "\n",
    "results = model.predict(\"faces.jpg\", save=True)\n",
    "pred_boxes = results[0].obb"
   ]
  },
  {
   "cell_type": "code",
   "outputs": [],
   "source": [],
   "metadata": {
    "collapsed": false
   },
   "id": "8d61d7e0bee2d1e3"
  }
 ],
 "metadata": {
  "kernelspec": {
   "display_name": "Python 3",
   "language": "python",
   "name": "python3"
  },
  "language_info": {
   "codemirror_mode": {
    "name": "ipython",
    "version": 2
   },
   "file_extension": ".py",
   "mimetype": "text/x-python",
   "name": "python",
   "nbconvert_exporter": "python",
   "pygments_lexer": "ipython2",
   "version": "2.7.6"
  }
 },
 "nbformat": 4,
 "nbformat_minor": 5
}
