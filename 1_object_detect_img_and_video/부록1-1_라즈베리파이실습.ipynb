{
 "cells": [
  {
   "cell_type": "markdown",
   "source": [
    "# 라즈베리파이에서 Libcamera를 이용한\n",
    "# TCP 스트리밍 예시입니다.\n",
    "\n",
    "\n",
    "# 카메라 준비\n",
    "\n",
    "라즈베리파이 운영체제는 64비트여야 합니다.\n",
    "\n",
    "CSI 케이블을 통해 Pi카메라를 라즈베리파이에 연결합니다.\n",
    "\n",
    "연결이 완료되었으면 `libcamera-hello` 명령어를 통해 설치를 테스트합니다.\n",
    "\n",
    "카메라에서 비디오 피드가 표시되어야 합니다.\n",
    "\n",
    "라즈베리파이 사양에 따라 YOLOv8 대신 v5를 사용하는 것이 더 적절할 수 있습니다.\n",
    "\n",
    "예를 들면 라즈베리파이3에서는 일반적으로 YOLOv5가 권장됩니다.\n",
    "\n",
    "4 이상의 버전에서는 성능 또는 목적에 따라 적절한 모델을 선택하실 수 있습니다.\n",
    "\n",
    "\n",
    "# 라즈베리파이3에서 YOLOv5를 이용하는 방법 \n",
    "\n",
    "1. 먼저 라즈베리파이를 업데이트합니다.\n",
    "\n",
    "터미널에서 아래 명령어를 실행합니다.\n",
    "\n",
    "```\n",
    "sudo apt-get update\n",
    "sudo apt-get upgrade -y\n",
    "sudo apt-get autoremove -y\n",
    "```\n",
    "\n",
    "2. 깃헙의 ultralytics/yolov5 레포지토리를 홈 디렉토리에 클론합니다.\n",
    "\n",
    "```\n",
    "cd ~\n",
    "git clone https://github.com/Ultralytics/yolov5.git\n",
    "```\n",
    "\n",
    "3. 클론한 디렉토리로 들어가서 종속 라이브러리를 수동설치합니다.\n",
    "\n",
    "```\n",
    "cd ~/yolov5\n",
    "pip3 install -r requirements.txt\n",
    "```\n",
    "\n",
    "4. 만약 라즈베리파이3를 사용하신다면 \n",
    "\n",
    "torch 및 torchvision의 버전을 더 낮춰서 재설치해야 합니다.\n",
    "\n",
    "**※ 라즈베리파이4 이상의 모델에서는 이 단계를 건너뛰어야 합니다.**\n",
    "\n",
    "```\n",
    "pip3 uninstall torch torchvision\n",
    "pip3 install torch==1.11.0 torchvision==0.12.0\n",
    "```\n",
    "\n",
    "5. 라즈베리파이3의 CLI에서 TCP스트림을 사용하려면 \n",
    "\n",
    "detect.py에서 is_url로 시작하는 라인(103) 끝에 \"tcp://\"를 추가하고,\n",
    "\n",
    "view_img로 시작하는 라인(122)은 (지우거나) 주석처리해야 합니다.\n"
   ],
   "metadata": {
    "collapsed": false
   },
   "id": "148730af7860b07b"
  },
  {
   "cell_type": "markdown",
   "source": [
    "```python3\n",
    "# before\n",
    "is_url = source.lower().startswith((\"rtsp://\", \"rtmp://\", \"http://\", \"https://\"))\n",
    "\n",
    "# after\n",
    "is_url = source.lower().startswith((\"rtsp://\", \"rtmp://\", \"http://\", \"https://\", \"tcp://\"))\n",
    "```\n",
    "편집을 완료했으면 저장하고 종료합니다."
   ],
   "metadata": {
    "collapsed": false
   },
   "id": "ea63f8ae1787c5b8"
  },
  {
   "cell_type": "markdown",
   "source": [
    "이제 터미널에서 TCP스트림을 시작합니다.\n",
    "\n",
    "```bash\n",
    "libcamera-vid -n -t 0 --width 1280 --height 960 --framerate 1 --inline --listen -o tcp://127.0.0.1:8888\n",
    "```\n",
    "\n",
    "이 스트림을 YOLO의 소스로 활용할 예정이므로 이 세션은 계속 유지해야 합니다.\n",
    "\n",
    "마지막으로 새로운 세션을 열어 YOLOv5의 객체탐지를 실행합니다.\n",
    "\n",
    "```\n",
    "cd ~/yolov5\n",
    "python3 detect.py --source=tcp://127.0.0.1:8888\n",
    "```\n",
    "\n",
    "끝."
   ],
   "metadata": {
    "collapsed": false
   },
   "id": "8270ddd1ad75ec96"
  },
  {
   "cell_type": "markdown",
   "source": [
    "\n",
    "# YOLOv8을 이용하는 방법\n",
    "\n",
    "1. 라즈베리파이를 업데이트합니다.\n",
    "터미널에서 아래 명령어를 실행합니다.\n",
    "\n",
    "```\n",
    "sudo apt-get update\n",
    "sudo apt-get upgrade -y\n",
    "sudo apt-get autoremove -y\n",
    "```\n",
    "\n",
    "2. ultralytics를 설치후 재부팅합니다.\n",
    "\n",
    "```\n",
    "pip3 install ultralytics && sudo reboot\n",
    "```\n",
    "3. 재부팅이 완료되었으면, \n",
    "터미널에서 TCP스트림을 시작해봅니다.\n",
    "\n",
    "```\n",
    "libcamera-vid -n -t 0 --width 1280 --height 960 --framerate 1 --inline --listen -o tcp://127.0.0.1:8888\n",
    "```\n",
    "\n",
    "4. 이후 과정은 동일합니다.\n"
   ],
   "metadata": {
    "collapsed": false
   },
   "id": "7cf3b93424ad74ec"
  }
 ],
 "metadata": {
  "kernelspec": {
   "display_name": "Python 3",
   "language": "python",
   "name": "python3"
  },
  "language_info": {
   "codemirror_mode": {
    "name": "ipython",
    "version": 2
   },
   "file_extension": ".py",
   "mimetype": "text/x-python",
   "name": "python",
   "nbconvert_exporter": "python",
   "pygments_lexer": "ipython2",
   "version": "2.7.6"
  }
 },
 "nbformat": 4,
 "nbformat_minor": 5
}
