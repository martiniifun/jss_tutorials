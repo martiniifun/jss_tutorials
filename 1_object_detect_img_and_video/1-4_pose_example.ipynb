{
 "cells": [
  {
   "cell_type": "code",
   "execution_count": 1,
   "id": "initial_id",
   "metadata": {
    "collapsed": true,
    "ExecuteTime": {
     "end_time": "2024-02-04T05:28:55.463891500Z",
     "start_time": "2024-02-04T05:28:51.076948500Z"
    }
   },
   "outputs": [],
   "source": [
    "from ultralytics import YOLO\n",
    "\n",
    "model = YOLO(\"yolov8n-pose.pt\")"
   ]
  },
  {
   "cell_type": "code",
   "outputs": [
    {
     "name": "stdout",
     "output_type": "stream",
     "text": [
      "\n",
      "\n",
      "WARNING ⚠️ inference results will accumulate in RAM unless `stream=True` is passed, causing potential out-of-memory\n",
      "errors for large sources or long-running streams and videos. See https://docs.ultralytics.com/modes/predict/ for help.\n",
      "\n",
      "Example:\n",
      "    results = model(source=..., stream=True)  # generator of Results objects\n",
      "    for r in results:\n",
      "        boxes = r.boxes  # Boxes object for bbox outputs\n",
      "        masks = r.masks  # Masks object for segment masks outputs\n",
      "        probs = r.probs  # Class probabilities for classification outputs\n",
      "video 1/1 (1/1800) C:\\Users\\Administrator\\PycharmProjects\\jss_tutorials\\1_object_detect_img_and_video\\newjeans.mp4: 640x384 1 person, 94.6ms\n",
      "video 1/1 (2/1800) C:\\Users\\Administrator\\PycharmProjects\\jss_tutorials\\1_object_detect_img_and_video\\newjeans.mp4: 640x384 1 person, 91.4ms\n",
      "video 1/1 (3/1800) C:\\Users\\Administrator\\PycharmProjects\\jss_tutorials\\1_object_detect_img_and_video\\newjeans.mp4: 640x384 1 person, 86.0ms\n",
      "video 1/1 (4/1800) C:\\Users\\Administrator\\PycharmProjects\\jss_tutorials\\1_object_detect_img_and_video\\newjeans.mp4: 640x384 1 person, 87.3ms\n",
      "video 1/1 (5/1800) C:\\Users\\Administrator\\PycharmProjects\\jss_tutorials\\1_object_detect_img_and_video\\newjeans.mp4: 640x384 1 person, 88.7ms\n",
      "video 1/1 (6/1800) C:\\Users\\Administrator\\PycharmProjects\\jss_tutorials\\1_object_detect_img_and_video\\newjeans.mp4: 640x384 1 person, 88.1ms\n",
      "video 1/1 (7/1800) C:\\Users\\Administrator\\PycharmProjects\\jss_tutorials\\1_object_detect_img_and_video\\newjeans.mp4: 640x384 1 person, 100.4ms\n",
      "video 1/1 (8/1800) C:\\Users\\Administrator\\PycharmProjects\\jss_tutorials\\1_object_detect_img_and_video\\newjeans.mp4: 640x384 1 person, 92.0ms\n",
      "video 1/1 (9/1800) C:\\Users\\Administrator\\PycharmProjects\\jss_tutorials\\1_object_detect_img_and_video\\newjeans.mp4: 640x384 1 person, 89.7ms\n",
      "video 1/1 (10/1800) C:\\Users\\Administrator\\PycharmProjects\\jss_tutorials\\1_object_detect_img_and_video\\newjeans.mp4: 640x384 1 person, 92.5ms\n",
      "video 1/1 (11/1800) C:\\Users\\Administrator\\PycharmProjects\\jss_tutorials\\1_object_detect_img_and_video\\newjeans.mp4: 640x384 1 person, 98.7ms\n",
      "video 1/1 (12/1800) C:\\Users\\Administrator\\PycharmProjects\\jss_tutorials\\1_object_detect_img_and_video\\newjeans.mp4: 640x384 1 person, 84.1ms\n",
      "video 1/1 (13/1800) C:\\Users\\Administrator\\PycharmProjects\\jss_tutorials\\1_object_detect_img_and_video\\newjeans.mp4: 640x384 1 person, 93.4ms\n",
      "video 1/1 (14/1800) C:\\Users\\Administrator\\PycharmProjects\\jss_tutorials\\1_object_detect_img_and_video\\newjeans.mp4: 640x384 1 person, 83.8ms\n",
      "video 1/1 (15/1800) C:\\Users\\Administrator\\PycharmProjects\\jss_tutorials\\1_object_detect_img_and_video\\newjeans.mp4: 640x384 1 person, 94.6ms\n",
      "video 1/1 (16/1800) C:\\Users\\Administrator\\PycharmProjects\\jss_tutorials\\1_object_detect_img_and_video\\newjeans.mp4: 640x384 1 person, 82.8ms\n",
      "video 1/1 (17/1800) C:\\Users\\Administrator\\PycharmProjects\\jss_tutorials\\1_object_detect_img_and_video\\newjeans.mp4: 640x384 1 person, 93.9ms\n",
      "video 1/1 (18/1800) C:\\Users\\Administrator\\PycharmProjects\\jss_tutorials\\1_object_detect_img_and_video\\newjeans.mp4: 640x384 1 person, 95.6ms\n",
      "video 1/1 (19/1800) C:\\Users\\Administrator\\PycharmProjects\\jss_tutorials\\1_object_detect_img_and_video\\newjeans.mp4: 640x384 1 person, 81.4ms\n",
      "video 1/1 (20/1800) C:\\Users\\Administrator\\PycharmProjects\\jss_tutorials\\1_object_detect_img_and_video\\newjeans.mp4: 640x384 1 person, 86.3ms\n",
      "video 1/1 (21/1800) C:\\Users\\Administrator\\PycharmProjects\\jss_tutorials\\1_object_detect_img_and_video\\newjeans.mp4: 640x384 1 person, 81.7ms\n",
      "video 1/1 (22/1800) C:\\Users\\Administrator\\PycharmProjects\\jss_tutorials\\1_object_detect_img_and_video\\newjeans.mp4: 640x384 1 person, 85.9ms\n",
      "video 1/1 (23/1800) C:\\Users\\Administrator\\PycharmProjects\\jss_tutorials\\1_object_detect_img_and_video\\newjeans.mp4: 640x384 1 person, 89.8ms\n",
      "video 1/1 (24/1800) C:\\Users\\Administrator\\PycharmProjects\\jss_tutorials\\1_object_detect_img_and_video\\newjeans.mp4: 640x384 1 person, 86.7ms\n",
      "video 1/1 (25/1800) C:\\Users\\Administrator\\PycharmProjects\\jss_tutorials\\1_object_detect_img_and_video\\newjeans.mp4: 640x384 1 person, 87.4ms\n",
      "video 1/1 (26/1800) C:\\Users\\Administrator\\PycharmProjects\\jss_tutorials\\1_object_detect_img_and_video\\newjeans.mp4: 640x384 1 person, 91.9ms\n",
      "video 1/1 (27/1800) C:\\Users\\Administrator\\PycharmProjects\\jss_tutorials\\1_object_detect_img_and_video\\newjeans.mp4: 640x384 1 person, 85.0ms\n",
      "video 1/1 (28/1800) C:\\Users\\Administrator\\PycharmProjects\\jss_tutorials\\1_object_detect_img_and_video\\newjeans.mp4: 640x384 1 person, 77.5ms\n",
      "video 1/1 (29/1800) C:\\Users\\Administrator\\PycharmProjects\\jss_tutorials\\1_object_detect_img_and_video\\newjeans.mp4: 640x384 1 person, 89.3ms\n",
      "video 1/1 (30/1800) C:\\Users\\Administrator\\PycharmProjects\\jss_tutorials\\1_object_detect_img_and_video\\newjeans.mp4: 640x384 1 person, 85.8ms\n",
      "video 1/1 (31/1800) C:\\Users\\Administrator\\PycharmProjects\\jss_tutorials\\1_object_detect_img_and_video\\newjeans.mp4: 640x384 1 person, 89.5ms\n",
      "video 1/1 (32/1800) C:\\Users\\Administrator\\PycharmProjects\\jss_tutorials\\1_object_detect_img_and_video\\newjeans.mp4: 640x384 1 person, 89.3ms\n",
      "video 1/1 (33/1800) C:\\Users\\Administrator\\PycharmProjects\\jss_tutorials\\1_object_detect_img_and_video\\newjeans.mp4: 640x384 1 person, 86.0ms\n",
      "video 1/1 (34/1800) C:\\Users\\Administrator\\PycharmProjects\\jss_tutorials\\1_object_detect_img_and_video\\newjeans.mp4: 640x384 1 person, 85.6ms\n",
      "video 1/1 (35/1800) C:\\Users\\Administrator\\PycharmProjects\\jss_tutorials\\1_object_detect_img_and_video\\newjeans.mp4: 640x384 1 person, 86.0ms\n",
      "video 1/1 (36/1800) C:\\Users\\Administrator\\PycharmProjects\\jss_tutorials\\1_object_detect_img_and_video\\newjeans.mp4: 640x384 1 person, 86.2ms\n",
      "video 1/1 (37/1800) C:\\Users\\Administrator\\PycharmProjects\\jss_tutorials\\1_object_detect_img_and_video\\newjeans.mp4: 640x384 1 person, 89.6ms\n",
      "video 1/1 (38/1800) C:\\Users\\Administrator\\PycharmProjects\\jss_tutorials\\1_object_detect_img_and_video\\newjeans.mp4: 640x384 1 person, 81.2ms\n",
      "video 1/1 (39/1800) C:\\Users\\Administrator\\PycharmProjects\\jss_tutorials\\1_object_detect_img_and_video\\newjeans.mp4: 640x384 1 person, 85.8ms\n",
      "video 1/1 (40/1800) C:\\Users\\Administrator\\PycharmProjects\\jss_tutorials\\1_object_detect_img_and_video\\newjeans.mp4: 640x384 1 person, 86.6ms\n",
      "video 1/1 (41/1800) C:\\Users\\Administrator\\PycharmProjects\\jss_tutorials\\1_object_detect_img_and_video\\newjeans.mp4: 640x384 1 person, 76.7ms\n",
      "video 1/1 (42/1800) C:\\Users\\Administrator\\PycharmProjects\\jss_tutorials\\1_object_detect_img_and_video\\newjeans.mp4: 640x384 1 person, 90.9ms\n",
      "video 1/1 (43/1800) C:\\Users\\Administrator\\PycharmProjects\\jss_tutorials\\1_object_detect_img_and_video\\newjeans.mp4: 640x384 1 person, 80.3ms\n",
      "video 1/1 (44/1800) C:\\Users\\Administrator\\PycharmProjects\\jss_tutorials\\1_object_detect_img_and_video\\newjeans.mp4: 640x384 1 person, 87.1ms\n",
      "video 1/1 (45/1800) C:\\Users\\Administrator\\PycharmProjects\\jss_tutorials\\1_object_detect_img_and_video\\newjeans.mp4: 640x384 1 person, 84.4ms\n",
      "video 1/1 (46/1800) C:\\Users\\Administrator\\PycharmProjects\\jss_tutorials\\1_object_detect_img_and_video\\newjeans.mp4: 640x384 1 person, 86.2ms\n",
      "video 1/1 (47/1800) C:\\Users\\Administrator\\PycharmProjects\\jss_tutorials\\1_object_detect_img_and_video\\newjeans.mp4: 640x384 1 person, 77.2ms\n",
      "video 1/1 (48/1800) C:\\Users\\Administrator\\PycharmProjects\\jss_tutorials\\1_object_detect_img_and_video\\newjeans.mp4: 640x384 1 person, 79.3ms\n",
      "video 1/1 (49/1800) C:\\Users\\Administrator\\PycharmProjects\\jss_tutorials\\1_object_detect_img_and_video\\newjeans.mp4: 640x384 1 person, 79.3ms\n",
      "video 1/1 (50/1800) C:\\Users\\Administrator\\PycharmProjects\\jss_tutorials\\1_object_detect_img_and_video\\newjeans.mp4: 640x384 1 person, 86.2ms\n",
      "video 1/1 (51/1800) C:\\Users\\Administrator\\PycharmProjects\\jss_tutorials\\1_object_detect_img_and_video\\newjeans.mp4: 640x384 1 person, 84.0ms\n",
      "video 1/1 (52/1800) C:\\Users\\Administrator\\PycharmProjects\\jss_tutorials\\1_object_detect_img_and_video\\newjeans.mp4: 640x384 1 person, 86.0ms\n",
      "video 1/1 (53/1800) C:\\Users\\Administrator\\PycharmProjects\\jss_tutorials\\1_object_detect_img_and_video\\newjeans.mp4: 640x384 1 person, 84.5ms\n",
      "video 1/1 (54/1800) C:\\Users\\Administrator\\PycharmProjects\\jss_tutorials\\1_object_detect_img_and_video\\newjeans.mp4: 640x384 1 person, 82.4ms\n",
      "video 1/1 (55/1800) C:\\Users\\Administrator\\PycharmProjects\\jss_tutorials\\1_object_detect_img_and_video\\newjeans.mp4: 640x384 1 person, 78.4ms\n",
      "video 1/1 (56/1800) C:\\Users\\Administrator\\PycharmProjects\\jss_tutorials\\1_object_detect_img_and_video\\newjeans.mp4: 640x384 1 person, 81.0ms\n",
      "video 1/1 (57/1800) C:\\Users\\Administrator\\PycharmProjects\\jss_tutorials\\1_object_detect_img_and_video\\newjeans.mp4: 640x384 1 person, 84.1ms\n",
      "video 1/1 (58/1800) C:\\Users\\Administrator\\PycharmProjects\\jss_tutorials\\1_object_detect_img_and_video\\newjeans.mp4: 640x384 1 person, 87.5ms\n",
      "video 1/1 (59/1800) C:\\Users\\Administrator\\PycharmProjects\\jss_tutorials\\1_object_detect_img_and_video\\newjeans.mp4: 640x384 1 person, 84.3ms\n",
      "video 1/1 (60/1800) C:\\Users\\Administrator\\PycharmProjects\\jss_tutorials\\1_object_detect_img_and_video\\newjeans.mp4: 640x384 1 person, 78.9ms\n",
      "video 1/1 (61/1800) C:\\Users\\Administrator\\PycharmProjects\\jss_tutorials\\1_object_detect_img_and_video\\newjeans.mp4: 640x384 1 person, 78.7ms\n",
      "video 1/1 (62/1800) C:\\Users\\Administrator\\PycharmProjects\\jss_tutorials\\1_object_detect_img_and_video\\newjeans.mp4: 640x384 1 person, 90.0ms\n",
      "video 1/1 (63/1800) C:\\Users\\Administrator\\PycharmProjects\\jss_tutorials\\1_object_detect_img_and_video\\newjeans.mp4: 640x384 1 person, 86.6ms\n",
      "video 1/1 (64/1800) C:\\Users\\Administrator\\PycharmProjects\\jss_tutorials\\1_object_detect_img_and_video\\newjeans.mp4: 640x384 1 person, 81.4ms\n",
      "video 1/1 (65/1800) C:\\Users\\Administrator\\PycharmProjects\\jss_tutorials\\1_object_detect_img_and_video\\newjeans.mp4: 640x384 1 person, 91.6ms\n",
      "video 1/1 (66/1800) C:\\Users\\Administrator\\PycharmProjects\\jss_tutorials\\1_object_detect_img_and_video\\newjeans.mp4: 640x384 1 person, 86.7ms\n",
      "video 1/1 (67/1800) C:\\Users\\Administrator\\PycharmProjects\\jss_tutorials\\1_object_detect_img_and_video\\newjeans.mp4: 640x384 1 person, 82.2ms\n",
      "video 1/1 (68/1800) C:\\Users\\Administrator\\PycharmProjects\\jss_tutorials\\1_object_detect_img_and_video\\newjeans.mp4: 640x384 1 person, 86.9ms\n",
      "video 1/1 (69/1800) C:\\Users\\Administrator\\PycharmProjects\\jss_tutorials\\1_object_detect_img_and_video\\newjeans.mp4: 640x384 1 person, 79.8ms\n",
      "video 1/1 (70/1800) C:\\Users\\Administrator\\PycharmProjects\\jss_tutorials\\1_object_detect_img_and_video\\newjeans.mp4: 640x384 1 person, 84.7ms\n"
     ]
    },
    {
     "name": "stderr",
     "output_type": "stream",
     "text": [
      "\n",
      "KeyboardInterrupt\n",
      "\n"
     ]
    }
   ],
   "source": [
    "model.predict(\"./newjeans.mp4\", save=True, show=True)\n",
    "# 괄호 안에 show=True를 제거하면 백그라운드에서만 변환"
   ],
   "metadata": {
    "collapsed": false,
    "ExecuteTime": {
     "end_time": "2024-02-04T05:33:15.222015300Z",
     "start_time": "2024-02-04T05:33:07.194769300Z"
    }
   },
   "id": "fffe08cb282b811d",
   "execution_count": 4
  },
  {
   "cell_type": "code",
   "outputs": [],
   "source": [
    "# 만약 YOLO에 모든 처리를 맡기지 않고\n",
    "# cv2로 위임해서, 출력창의 사이즈를 조절한다든지\n",
    "# 동영상의 포맷을 바꾼다든지 하고 싶다면\n",
    "# 아래처럼 cv와 연동하면 됩니다."
   ],
   "metadata": {
    "collapsed": false
   },
   "id": "52394f884537e8c6"
  },
  {
   "cell_type": "code",
   "outputs": [
    {
     "name": "stdout",
     "output_type": "stream",
     "text": [
      "0: 640x384 1 person, 92.3ms\n",
      "Speed: 2.2ms preprocess, 92.3ms inference, 1.1ms postprocess per image at shape (1, 3, 640, 384)\n",
      "Results saved to \u001B[1mC:\\Users\\Administrator\\PycharmProjects\\jss_tutorials\\runs\\pose\\predict9\u001B[0m\n",
      "0: 640x384 1 person, 100.1ms\n",
      "Speed: 2.2ms preprocess, 100.1ms inference, 1.1ms postprocess per image at shape (1, 3, 640, 384)\n",
      "Results saved to \u001B[1mC:\\Users\\Administrator\\PycharmProjects\\jss_tutorials\\runs\\pose\\predict9\u001B[0m\n",
      "0: 640x384 1 person, 88.9ms\n",
      "Speed: 1.1ms preprocess, 88.9ms inference, 1.0ms postprocess per image at shape (1, 3, 640, 384)\n",
      "Results saved to \u001B[1mC:\\Users\\Administrator\\PycharmProjects\\jss_tutorials\\runs\\pose\\predict9\u001B[0m\n",
      "0: 640x384 1 person, 101.9ms\n",
      "Speed: 1.4ms preprocess, 101.9ms inference, 1.3ms postprocess per image at shape (1, 3, 640, 384)\n",
      "Results saved to \u001B[1mC:\\Users\\Administrator\\PycharmProjects\\jss_tutorials\\runs\\pose\\predict9\u001B[0m\n",
      "0: 640x384 1 person, 88.0ms\n",
      "Speed: 2.2ms preprocess, 88.0ms inference, 1.2ms postprocess per image at shape (1, 3, 640, 384)\n",
      "Results saved to \u001B[1mC:\\Users\\Administrator\\PycharmProjects\\jss_tutorials\\runs\\pose\\predict9\u001B[0m\n",
      "0: 640x384 1 person, 87.7ms\n",
      "Speed: 2.2ms preprocess, 87.7ms inference, 1.1ms postprocess per image at shape (1, 3, 640, 384)\n",
      "Results saved to \u001B[1mC:\\Users\\Administrator\\PycharmProjects\\jss_tutorials\\runs\\pose\\predict9\u001B[0m\n",
      "0: 640x384 1 person, 80.5ms\n",
      "Speed: 2.1ms preprocess, 80.5ms inference, 1.1ms postprocess per image at shape (1, 3, 640, 384)\n",
      "Results saved to \u001B[1mC:\\Users\\Administrator\\PycharmProjects\\jss_tutorials\\runs\\pose\\predict9\u001B[0m\n",
      "0: 640x384 1 person, 84.8ms\n",
      "Speed: 1.1ms preprocess, 84.8ms inference, 1.0ms postprocess per image at shape (1, 3, 640, 384)\n",
      "Results saved to \u001B[1mC:\\Users\\Administrator\\PycharmProjects\\jss_tutorials\\runs\\pose\\predict9\u001B[0m\n",
      "0: 640x384 1 person, 87.0ms\n",
      "Speed: 1.1ms preprocess, 87.0ms inference, 1.0ms postprocess per image at shape (1, 3, 640, 384)\n",
      "Results saved to \u001B[1mC:\\Users\\Administrator\\PycharmProjects\\jss_tutorials\\runs\\pose\\predict9\u001B[0m\n",
      "0: 640x384 1 person, 95.8ms\n",
      "Speed: 2.3ms preprocess, 95.8ms inference, 1.0ms postprocess per image at shape (1, 3, 640, 384)\n",
      "Results saved to \u001B[1mC:\\Users\\Administrator\\PycharmProjects\\jss_tutorials\\runs\\pose\\predict9\u001B[0m\n",
      "0: 640x384 1 person, 73.7ms\n",
      "Speed: 2.2ms preprocess, 73.7ms inference, 1.0ms postprocess per image at shape (1, 3, 640, 384)\n",
      "Results saved to \u001B[1mC:\\Users\\Administrator\\PycharmProjects\\jss_tutorials\\runs\\pose\\predict9\u001B[0m\n",
      "0: 640x384 1 person, 78.6ms\n",
      "Speed: 2.2ms preprocess, 78.6ms inference, 1.2ms postprocess per image at shape (1, 3, 640, 384)\n",
      "Results saved to \u001B[1mC:\\Users\\Administrator\\PycharmProjects\\jss_tutorials\\runs\\pose\\predict9\u001B[0m\n",
      "0: 640x384 1 person, 86.2ms\n",
      "Speed: 2.2ms preprocess, 86.2ms inference, 1.1ms postprocess per image at shape (1, 3, 640, 384)\n",
      "Results saved to \u001B[1mC:\\Users\\Administrator\\PycharmProjects\\jss_tutorials\\runs\\pose\\predict9\u001B[0m\n"
     ]
    }
   ],
   "source": [
    "\n",
    "import os\n",
    "from ultralytics import YOLO\n",
    "import cv2\n",
    "\n",
    "# ↓출력창 사이즈(w, h), 실제 저장되는 동영상은 원본과 같음\n",
    "target_window_size = (240, 320)  \n",
    "\n",
    "model = YOLO(\"yolov8n-pose.pt\")\n",
    "cap = cv2.VideoCapture(\"newjeans.mp4\")\n",
    "assert cap.isOpened(), \"Error reading video file\"\n",
    "w, h, fps = (int(cap.get(x)) for x in (cv2.CAP_PROP_FRAME_WIDTH, cv2.CAP_PROP_FRAME_HEIGHT, cv2.CAP_PROP_FPS))\n",
    "video_writer = cv2.VideoWriter(\"newjeans-pose.mp4\",\n",
    "                               cv2.VideoWriter_fourcc(*'mp4v'),\n",
    "                               fps,\n",
    "                               (w, h))\n",
    "\n",
    "while cap.isOpened():\n",
    "    success, im0 = cap.read()\n",
    "    if not success:\n",
    "        print(\"Video frame is empty or video processing has been successfully completed.\")\n",
    "        break\n",
    "    if cv2.waitKey(1) & 0xFF == ord('q'):\n",
    "        break\n",
    "    results = model.predict(im0, save=True)\n",
    "    infer_img = os.path.join(results[0].save_dir, results[0].path)\n",
    "    video_writer.write(cv2.imread(infer_img))\n",
    "    cv2.imshow(\"pose\", cv2.resize(cv2.imread(infer_img), target_window_size))\n",
    "\n",
    "cv2.destroyAllWindows()\n",
    "video_writer.release()"
   ],
   "metadata": {
    "collapsed": false,
    "ExecuteTime": {
     "end_time": "2024-02-04T06:25:48.755402Z",
     "start_time": "2024-02-04T06:25:45.166909600Z"
    }
   },
   "id": "5dfa04059b8bdeae",
   "execution_count": 6
  }
 ],
 "metadata": {
  "kernelspec": {
   "display_name": "Python 3",
   "language": "python",
   "name": "python3"
  },
  "language_info": {
   "codemirror_mode": {
    "name": "ipython",
    "version": 2
   },
   "file_extension": ".py",
   "mimetype": "text/x-python",
   "name": "python",
   "nbconvert_exporter": "python",
   "pygments_lexer": "ipython2",
   "version": "2.7.6"
  }
 },
 "nbformat": 4,
 "nbformat_minor": 5
}
