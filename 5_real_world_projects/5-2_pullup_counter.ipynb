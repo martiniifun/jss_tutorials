{
 "cells": [
  {
   "cell_type": "code",
   "execution_count": 6,
   "id": "initial_id",
   "metadata": {
    "collapsed": true,
    "ExecuteTime": {
     "end_time": "2024-02-02T16:20:49.339568600Z",
     "start_time": "2024-02-02T16:19:22.520998100Z"
    }
   },
   "outputs": [
    {
     "name": "stdout",
     "output_type": "stream",
     "text": [
      "Video frame is empty or video processing has been successfully completed.\n"
     ]
    }
   ],
   "source": [
    "from ultralytics import YOLO\n",
    "from ultralytics.solutions import ai_gym\n",
    "import cv2\n",
    "\n",
    "model = YOLO(\"yolov8s-pose.pt\")\n",
    "cap = cv2.VideoCapture(\"pullup3.mp4\")\n",
    "assert cap.isOpened(), \"Error reading video file\"\n",
    "w, h, fps = (int(cap.get(x)) for x in (cv2.CAP_PROP_FRAME_WIDTH, cv2.CAP_PROP_FRAME_HEIGHT, cv2.CAP_PROP_FPS))\n",
    "\n",
    "video_writer = cv2.VideoWriter(\"workouts.mp4\",\n",
    "                               cv2.VideoWriter_fourcc(*'mp4v'),\n",
    "                               fps,\n",
    "                               (w, h))\n",
    "\n",
    "gym_object = ai_gym.AIGym()  # init AI GYM module\n",
    "gym_object.set_args(line_thickness=2,\n",
    "                    view_img=True,\n",
    "                    pose_type=\"pullup\",\n",
    "                    kpts_to_check=[5, 7, 9],\n",
    "                    )\n",
    "\n",
    "frame_count = 0\n",
    "while cap.isOpened():\n",
    "    success, im0 = cap.read()\n",
    "    if not success:\n",
    "        print(\"Video frame is empty or video processing has been successfully completed.\")\n",
    "        break\n",
    "    if cv2.waitKey(1) & 0xFF == ord('q'):\n",
    "        break\n",
    "    frame_count += 1\n",
    "    results = model.predict(im0, verbose=False)\n",
    "    try:\n",
    "        im0 = gym_object.start_counting(im0, results, frame_count)\n",
    "    except IndexError as e:\n",
    "        print(\"preparing predict\")\n",
    "    video_writer.write(im0)\n",
    "\n",
    "cv2.destroyAllWindows()\n",
    "video_writer.release()"
   ]
  },
  {
   "cell_type": "code",
   "outputs": [],
   "source": [
    "cv2.destroyAllWindows()\n",
    "video_writer.release()"
   ],
   "metadata": {
    "collapsed": false,
    "ExecuteTime": {
     "end_time": "2024-02-02T16:11:21.763654300Z",
     "start_time": "2024-02-02T16:11:21.734587900Z"
    }
   },
   "id": "a5f017f5fcd44734",
   "execution_count": 3
  },
  {
   "cell_type": "code",
   "outputs": [
    {
     "data": {
      "text/plain": "327"
     },
     "execution_count": 7,
     "metadata": {},
     "output_type": "execute_result"
    }
   ],
   "source": [
    "frame_count"
   ],
   "metadata": {
    "collapsed": false,
    "ExecuteTime": {
     "end_time": "2024-02-02T16:21:05.932297900Z",
     "start_time": "2024-02-02T16:21:05.912595900Z"
    }
   },
   "id": "263c679d8ded21ea",
   "execution_count": 7
  },
  {
   "cell_type": "code",
   "outputs": [
    {
     "data": {
      "text/plain": "[179.0958828506091]"
     },
     "execution_count": 10,
     "metadata": {},
     "output_type": "execute_result"
    }
   ],
   "source": [
    "gym_object.angle"
   ],
   "metadata": {
    "collapsed": false,
    "ExecuteTime": {
     "end_time": "2024-02-02T16:21:35.993682900Z",
     "start_time": "2024-02-02T16:21:35.968574600Z"
    }
   },
   "id": "f23d17efdee0c1b9",
   "execution_count": 10
  },
  {
   "cell_type": "code",
   "outputs": [],
   "source": [],
   "metadata": {
    "collapsed": false
   },
   "id": "656a297bf2fac25b"
  }
 ],
 "metadata": {
  "kernelspec": {
   "display_name": "Python 3",
   "language": "python",
   "name": "python3"
  },
  "language_info": {
   "codemirror_mode": {
    "name": "ipython",
    "version": 2
   },
   "file_extension": ".py",
   "mimetype": "text/x-python",
   "name": "python",
   "nbconvert_exporter": "python",
   "pygments_lexer": "ipython2",
   "version": "2.7.6"
  }
 },
 "nbformat": 4,
 "nbformat_minor": 5
}
