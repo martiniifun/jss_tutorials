{
 "cells": [
  {
   "cell_type": "code",
   "outputs": [],
   "source": [
    "%pip install ultralytics opencv-python gdown"
   ],
   "metadata": {
    "collapsed": false,
    "ExecuteTime": {
     "start_time": "2024-02-03T13:17:53.037894100Z"
    }
   },
   "id": "3132e82bb0bef2dc",
   "execution_count": null
  },
  {
   "cell_type": "code",
   "execution_count": null,
   "id": "initial_id",
   "metadata": {
    "collapsed": true,
    "ExecuteTime": {
     "start_time": "2024-02-03T13:17:53.047442400Z"
    }
   },
   "outputs": [],
   "source": [
    "from ultralytics import YOLO\n",
    "from ultralytics.solutions import object_counter\n",
    "import cv2\n",
    "import os\n",
    "import gdown\n",
    "\n",
    "os.environ[\"KMP_DUPLICATE_LIB_OK\"] = \"TRUE\""
   ]
  },
  {
   "cell_type": "code",
   "outputs": [],
   "source": [
    "gdown.download(\"https://drive.google.com/uc?id=1jy05F12AE0l_b4fOAStynZFg_PaLGEPO\", output=\"sihung.mp4\")\n",
    "model = YOLO(\"yolov8x.pt\")\n",
    "cap = cv2.VideoCapture(\"sihung.mp4\")"
   ],
   "metadata": {
    "collapsed": false,
    "ExecuteTime": {
     "start_time": "2024-02-03T13:17:53.056987700Z"
    }
   },
   "id": "108e7d6ee0daaca7",
   "execution_count": null
  },
  {
   "cell_type": "code",
   "outputs": [],
   "source": [
    "w, h, fps = (int(cap.get(x)) for x in (cv2.CAP_PROP_FRAME_WIDTH, cv2.CAP_PROP_FRAME_HEIGHT, cv2.CAP_PROP_FPS))\n",
    "video_writer = cv2.VideoWriter(\n",
    "    \"result.mp4\", \n",
    "    cv2.VideoWriter_fourcc(*\"mp4v\"),\n",
    "    fps, (w, h))\n",
    "\n",
    "counter = object_counter.ObjectCounter()  # Init Object Counter"
   ],
   "metadata": {
    "collapsed": false,
    "ExecuteTime": {
     "start_time": "2024-02-03T13:17:53.067541Z"
    }
   },
   "id": "2249aff5bb124eb4",
   "execution_count": null
  },
  {
   "cell_type": "code",
   "outputs": [],
   "source": [
    "# 좌표는 좌측상단이 원점\n",
    "region_points = [(0, 460), (200, 460), (250, 390), (0, 390)]\n",
    "counter.set_args(view_img=True, reg_pts=region_points, classes_names=model.names, draw_tracks=True,\n",
    "                 view_out_counts=False)"
   ],
   "metadata": {
    "collapsed": false,
    "ExecuteTime": {
     "start_time": "2024-02-03T13:17:53.080240800Z"
    }
   },
   "id": "5e650ad7d9082c7",
   "execution_count": null
  },
  {
   "cell_type": "code",
   "outputs": [],
   "source": [
    "while cap.isOpened():\n",
    "    success, frame = cap.read()\n",
    "    if not success:\n",
    "        exit(0)\n",
    "    if cv2.waitKey(1) & 0xFF == ord(\"q\"):\n",
    "            break\n",
    "    tracks = model.track(frame, persist=True, show=False)\n",
    "    frame = counter.start_counting(frame, tracks)\n",
    "    video_writer.write(frame)\n",
    "cap.release()\n",
    "cv2.destroyAllWindows()\n",
    "print(f\"30초간 지나간 차의 댓수 : {counter.in_counts}\")"
   ],
   "metadata": {
    "collapsed": false,
    "ExecuteTime": {
     "start_time": "2024-02-03T13:17:53.089268Z"
    }
   },
   "id": "49b3d6eb87b4a3cf",
   "execution_count": null
  },
  {
   "cell_type": "code",
   "outputs": [],
   "source": [
    "import pickle\n",
    "with open(\"sihung_result.pkl\", \"wb\") as f:\n",
    "    pickle.dump(counter, f)"
   ],
   "metadata": {
    "collapsed": false,
    "ExecuteTime": {
     "start_time": "2024-02-03T13:17:53.100324Z"
    }
   },
   "id": "1b3d90a3867f40f",
   "execution_count": null
  }
 ],
 "metadata": {
  "kernelspec": {
   "display_name": "Python 3",
   "language": "python",
   "name": "python3"
  },
  "language_info": {
   "codemirror_mode": {
    "name": "ipython",
    "version": 2
   },
   "file_extension": ".py",
   "mimetype": "text/x-python",
   "name": "python",
   "nbconvert_exporter": "python",
   "pygments_lexer": "ipython2",
   "version": "2.7.6"
  }
 },
 "nbformat": 4,
 "nbformat_minor": 5
}
