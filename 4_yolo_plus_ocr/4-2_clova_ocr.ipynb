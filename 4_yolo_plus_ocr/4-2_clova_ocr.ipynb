{
 "cells": [
  {
   "cell_type": "markdown",
   "source": [
    "참고 사이트 : https://yunwoong.tistory.com/153"
   ],
   "metadata": {
    "collapsed": false
   },
   "id": "19ff89fc44e9fdc1"
  },
  {
   "cell_type": "code",
   "execution_count": 17,
   "outputs": [],
   "source": [
    "import numpy as np\n",
    "import platform\n",
    "from PIL import ImageFont, ImageDraw, Image\n",
    "from matplotlib import pyplot as plt\n",
    "\n",
    "import uuid\n",
    "import json\n",
    "import time\n",
    "import cv2\n",
    "import requests"
   ],
   "metadata": {
    "collapsed": false,
    "ExecuteTime": {
     "end_time": "2024-01-31T03:43:03.231536100Z",
     "start_time": "2024-01-31T03:43:03.151342800Z"
    }
   },
   "id": "initial_id"
  },
  {
   "cell_type": "code",
   "execution_count": 18,
   "outputs": [],
   "source": [
    "def plt_imshow(title='image', img=None, figsize=(8, 5)):\n",
    "    plt.figure(figsize=figsize)\n",
    "\n",
    "    if type(img) == list:\n",
    "        if type(title) == list:\n",
    "            titles = title\n",
    "        else:\n",
    "            titles = []\n",
    "\n",
    "            for i in range(len(img)):\n",
    "                titles.append(title)\n",
    "\n",
    "        for i in range(len(img)):\n",
    "            if len(img[i].shape) <= 2:\n",
    "                rgbImg = cv2.cvtColor(img[i], cv2.COLOR_GRAY2RGB)\n",
    "            else:\n",
    "                rgbImg = cv2.cvtColor(img[i], cv2.COLOR_BGR2RGB)\n",
    "\n",
    "            plt.subplot(1, len(img), i + 1), plt.imshow(rgbImg)\n",
    "            plt.title(titles[i])\n",
    "            plt.xticks([]), plt.yticks([])\n",
    "\n",
    "        plt.show()\n",
    "    else:\n",
    "        if len(img.shape) < 3:\n",
    "            rgbImg = cv2.cvtColor(img, cv2.COLOR_GRAY2RGB)\n",
    "        else:\n",
    "            rgbImg = cv2.cvtColor(img, cv2.COLOR_BGR2RGB)\n",
    "\n",
    "        plt.imshow(rgbImg)\n",
    "        plt.title(title)\n",
    "        plt.xticks([]), plt.yticks([])\n",
    "        plt.show()\n",
    "\n",
    "\n",
    "def put_text(image, text, x, y, color=(0, 255, 0), font_size=22):\n",
    "    if type(image) == np.ndarray:\n",
    "        color_coverted = cv2.cvtColor(image, cv2.COLOR_BGR2RGB)\n",
    "        image = Image.fromarray(color_coverted)\n",
    "\n",
    "    if platform.system() == 'Darwin':\n",
    "        font = 'AppleGothic.ttf'\n",
    "    elif platform.system() == 'Windows':\n",
    "        font = 'malgun.ttf'\n",
    "    elif platform.system() == \"Linux\":  # 원본에서 이 부분만 수정함\n",
    "        # font = 'Ubuntu-R.ttf'\n",
    "        font = 'd2coding.ttf'\n",
    "\n",
    "    image_font = ImageFont.truetype(font, font_size)\n",
    "    font = ImageFont.load_default()\n",
    "    draw = ImageDraw.Draw(image)\n",
    "\n",
    "    draw.text((x, y), text, font=image_font, fill=color)\n",
    "\n",
    "    numpy_image = np.array(image)\n",
    "    opencv_image = cv2.cvtColor(numpy_image, cv2.COLOR_RGB2BGR)\n",
    "\n",
    "    return opencv_image"
   ],
   "metadata": {
    "collapsed": false,
    "ExecuteTime": {
     "end_time": "2024-01-31T03:43:03.260098200Z",
     "start_time": "2024-01-31T03:43:03.242153200Z"
    }
   },
   "id": "64bba7731eb4579e"
  },
  {
   "cell_type": "code",
   "execution_count": 19,
   "outputs": [],
   "source": [
    "path = \"./images/my_profile.png\"\n",
    "files = [\n",
    "    (\"file\", open(path, \"rb\")),\n",
    "]"
   ],
   "metadata": {
    "collapsed": false,
    "ExecuteTime": {
     "end_time": "2024-01-31T03:43:03.300814700Z",
     "start_time": "2024-01-31T03:43:03.248739600Z"
    }
   },
   "id": "269afd61196853d7"
  },
  {
   "cell_type": "code",
   "execution_count": 20,
   "outputs": [],
   "source": [
    "api_url = \"https://9upvb67beq.apigw.ntruss.com/custom/v1/28024/7cb9fc59c2d43289019b8324b342505401dcaebbc780f57c7030a8fa4a1afa5d/general\"\n",
    "secret_key = \"T0FsWlRPdGZ4TUxHd2phUVd2cHduQklWU2t5cVRzUnU=\""
   ],
   "metadata": {
    "collapsed": false,
    "ExecuteTime": {
     "end_time": "2024-01-31T03:43:03.301957900Z",
     "start_time": "2024-01-31T03:43:03.263282300Z"
    }
   },
   "id": "1f5f41ae2218a337"
  },
  {
   "cell_type": "code",
   "execution_count": 21,
   "outputs": [],
   "source": [
    "request_json = {\n",
    "    'images': [\n",
    "        {\n",
    "            'format': path.split(\".\")[-1],\n",
    "            'name': path.split(\".\")[0]\n",
    "        }\n",
    "    ],\n",
    "    'requestId': str(uuid.uuid4()),\n",
    "    'version': \"V2\",\n",
    "    'timestamp': int(round(time.time() * 1000)),\n",
    "}"
   ],
   "metadata": {
    "collapsed": false,
    "ExecuteTime": {
     "end_time": "2024-01-31T03:43:03.327578700Z",
     "start_time": "2024-01-31T03:43:03.280977500Z"
    }
   },
   "id": "259cfdfb3c10f114"
  },
  {
   "cell_type": "code",
   "outputs": [
    {
     "data": {
      "text/plain": "b'{\"images\": [{\"format\": \"png\", \"name\": \"\"}], \"requestId\": \"38e84c4b-fe6b-4301-b90f-a3fee7f8df8d\", \"version\": \"V2\", \"timestamp\": 1706672583281}'"
     },
     "execution_count": 22,
     "metadata": {},
     "output_type": "execute_result"
    }
   ],
   "source": [
    "message = json.dumps(request_json).encode(\"utf-8\")\n",
    "message"
   ],
   "metadata": {
    "collapsed": false,
    "ExecuteTime": {
     "end_time": "2024-01-31T03:43:03.332245200Z",
     "start_time": "2024-01-31T03:43:03.297683Z"
    }
   },
   "id": "5848b57d0df37508",
   "execution_count": 22
  },
  {
   "cell_type": "code",
   "execution_count": 23,
   "outputs": [],
   "source": [
    "payload = {\n",
    "    \"message\": message\n",
    "}"
   ],
   "metadata": {
    "collapsed": false,
    "ExecuteTime": {
     "end_time": "2024-01-31T03:43:03.346685900Z",
     "start_time": "2024-01-31T03:43:03.310859100Z"
    }
   },
   "id": "e5131315b669d464"
  },
  {
   "cell_type": "code",
   "execution_count": 24,
   "outputs": [],
   "source": [
    "headers = {\n",
    "    'X-OCR-SECRET': secret_key,\n",
    "}"
   ],
   "metadata": {
    "collapsed": false,
    "ExecuteTime": {
     "end_time": "2024-01-31T03:43:03.376034600Z",
     "start_time": "2024-01-31T03:43:03.327578700Z"
    }
   },
   "id": "a4ba613eb1e4b9ae"
  },
  {
   "cell_type": "code",
   "execution_count": 25,
   "outputs": [
    {
     "ename": "ValueError",
     "evalue": "read of closed file",
     "output_type": "error",
     "traceback": [
      "\u001B[1;31m---------------------------------------------------------------------------\u001B[0m",
      "\u001B[1;31mValueError\u001B[0m                                Traceback (most recent call last)",
      "Cell \u001B[1;32mIn[25], line 1\u001B[0m\n\u001B[1;32m----> 1\u001B[0m response \u001B[38;5;241m=\u001B[39m \u001B[43mrequests\u001B[49m\u001B[38;5;241;43m.\u001B[39;49m\u001B[43mrequest\u001B[49m\u001B[43m(\u001B[49m\u001B[43mmethod\u001B[49m\u001B[38;5;241;43m=\u001B[39;49m\u001B[38;5;124;43m\"\u001B[39;49m\u001B[38;5;124;43mPOST\u001B[39;49m\u001B[38;5;124;43m\"\u001B[39;49m\u001B[43m,\u001B[49m\n\u001B[0;32m      2\u001B[0m \u001B[43m                            \u001B[49m\u001B[43murl\u001B[49m\u001B[38;5;241;43m=\u001B[39;49m\u001B[43mapi_url\u001B[49m\u001B[43m,\u001B[49m\n\u001B[0;32m      3\u001B[0m \u001B[43m                            \u001B[49m\u001B[43mheaders\u001B[49m\u001B[38;5;241;43m=\u001B[39;49m\u001B[43mheaders\u001B[49m\u001B[43m,\u001B[49m\n\u001B[0;32m      4\u001B[0m \u001B[43m                            \u001B[49m\u001B[43mdata\u001B[49m\u001B[38;5;241;43m=\u001B[39;49m\u001B[43mpayload\u001B[49m\u001B[43m,\u001B[49m\n\u001B[0;32m      5\u001B[0m \u001B[43m                            \u001B[49m\u001B[43mfiles\u001B[49m\u001B[38;5;241;43m=\u001B[39;49m\u001B[43mfiles\u001B[49m\u001B[43m)\u001B[49m\n",
      "File \u001B[1;32m~\\PycharmProjects\\jss_tutorials\\.venv\\lib\\site-packages\\requests\\api.py:59\u001B[0m, in \u001B[0;36mrequest\u001B[1;34m(method, url, **kwargs)\u001B[0m\n\u001B[0;32m     55\u001B[0m \u001B[38;5;66;03m# By using the 'with' statement we are sure the session is closed, thus we\u001B[39;00m\n\u001B[0;32m     56\u001B[0m \u001B[38;5;66;03m# avoid leaving sockets open which can trigger a ResourceWarning in some\u001B[39;00m\n\u001B[0;32m     57\u001B[0m \u001B[38;5;66;03m# cases, and look like a memory leak in others.\u001B[39;00m\n\u001B[0;32m     58\u001B[0m \u001B[38;5;28;01mwith\u001B[39;00m sessions\u001B[38;5;241m.\u001B[39mSession() \u001B[38;5;28;01mas\u001B[39;00m session:\n\u001B[1;32m---> 59\u001B[0m     \u001B[38;5;28;01mreturn\u001B[39;00m session\u001B[38;5;241m.\u001B[39mrequest(method\u001B[38;5;241m=\u001B[39mmethod, url\u001B[38;5;241m=\u001B[39murl, \u001B[38;5;241m*\u001B[39m\u001B[38;5;241m*\u001B[39mkwargs)\n",
      "File \u001B[1;32m~\\PycharmProjects\\jss_tutorials\\.venv\\lib\\site-packages\\requests\\sessions.py:575\u001B[0m, in \u001B[0;36mSession.request\u001B[1;34m(self, method, url, params, data, headers, cookies, files, auth, timeout, allow_redirects, proxies, hooks, stream, verify, cert, json)\u001B[0m\n\u001B[0;32m    562\u001B[0m \u001B[38;5;66;03m# Create the Request.\u001B[39;00m\n\u001B[0;32m    563\u001B[0m req \u001B[38;5;241m=\u001B[39m Request(\n\u001B[0;32m    564\u001B[0m     method\u001B[38;5;241m=\u001B[39mmethod\u001B[38;5;241m.\u001B[39mupper(),\n\u001B[0;32m    565\u001B[0m     url\u001B[38;5;241m=\u001B[39murl,\n\u001B[1;32m   (...)\u001B[0m\n\u001B[0;32m    573\u001B[0m     hooks\u001B[38;5;241m=\u001B[39mhooks,\n\u001B[0;32m    574\u001B[0m )\n\u001B[1;32m--> 575\u001B[0m prep \u001B[38;5;241m=\u001B[39m \u001B[38;5;28;43mself\u001B[39;49m\u001B[38;5;241;43m.\u001B[39;49m\u001B[43mprepare_request\u001B[49m\u001B[43m(\u001B[49m\u001B[43mreq\u001B[49m\u001B[43m)\u001B[49m\n\u001B[0;32m    577\u001B[0m proxies \u001B[38;5;241m=\u001B[39m proxies \u001B[38;5;129;01mor\u001B[39;00m {}\n\u001B[0;32m    579\u001B[0m settings \u001B[38;5;241m=\u001B[39m \u001B[38;5;28mself\u001B[39m\u001B[38;5;241m.\u001B[39mmerge_environment_settings(\n\u001B[0;32m    580\u001B[0m     prep\u001B[38;5;241m.\u001B[39murl, proxies, stream, verify, cert\n\u001B[0;32m    581\u001B[0m )\n",
      "File \u001B[1;32m~\\PycharmProjects\\jss_tutorials\\.venv\\lib\\site-packages\\requests\\sessions.py:486\u001B[0m, in \u001B[0;36mSession.prepare_request\u001B[1;34m(self, request)\u001B[0m\n\u001B[0;32m    483\u001B[0m     auth \u001B[38;5;241m=\u001B[39m get_netrc_auth(request\u001B[38;5;241m.\u001B[39murl)\n\u001B[0;32m    485\u001B[0m p \u001B[38;5;241m=\u001B[39m PreparedRequest()\n\u001B[1;32m--> 486\u001B[0m \u001B[43mp\u001B[49m\u001B[38;5;241;43m.\u001B[39;49m\u001B[43mprepare\u001B[49m\u001B[43m(\u001B[49m\n\u001B[0;32m    487\u001B[0m \u001B[43m    \u001B[49m\u001B[43mmethod\u001B[49m\u001B[38;5;241;43m=\u001B[39;49m\u001B[43mrequest\u001B[49m\u001B[38;5;241;43m.\u001B[39;49m\u001B[43mmethod\u001B[49m\u001B[38;5;241;43m.\u001B[39;49m\u001B[43mupper\u001B[49m\u001B[43m(\u001B[49m\u001B[43m)\u001B[49m\u001B[43m,\u001B[49m\n\u001B[0;32m    488\u001B[0m \u001B[43m    \u001B[49m\u001B[43murl\u001B[49m\u001B[38;5;241;43m=\u001B[39;49m\u001B[43mrequest\u001B[49m\u001B[38;5;241;43m.\u001B[39;49m\u001B[43murl\u001B[49m\u001B[43m,\u001B[49m\n\u001B[0;32m    489\u001B[0m \u001B[43m    \u001B[49m\u001B[43mfiles\u001B[49m\u001B[38;5;241;43m=\u001B[39;49m\u001B[43mrequest\u001B[49m\u001B[38;5;241;43m.\u001B[39;49m\u001B[43mfiles\u001B[49m\u001B[43m,\u001B[49m\n\u001B[0;32m    490\u001B[0m \u001B[43m    \u001B[49m\u001B[43mdata\u001B[49m\u001B[38;5;241;43m=\u001B[39;49m\u001B[43mrequest\u001B[49m\u001B[38;5;241;43m.\u001B[39;49m\u001B[43mdata\u001B[49m\u001B[43m,\u001B[49m\n\u001B[0;32m    491\u001B[0m \u001B[43m    \u001B[49m\u001B[43mjson\u001B[49m\u001B[38;5;241;43m=\u001B[39;49m\u001B[43mrequest\u001B[49m\u001B[38;5;241;43m.\u001B[39;49m\u001B[43mjson\u001B[49m\u001B[43m,\u001B[49m\n\u001B[0;32m    492\u001B[0m \u001B[43m    \u001B[49m\u001B[43mheaders\u001B[49m\u001B[38;5;241;43m=\u001B[39;49m\u001B[43mmerge_setting\u001B[49m\u001B[43m(\u001B[49m\n\u001B[0;32m    493\u001B[0m \u001B[43m        \u001B[49m\u001B[43mrequest\u001B[49m\u001B[38;5;241;43m.\u001B[39;49m\u001B[43mheaders\u001B[49m\u001B[43m,\u001B[49m\u001B[43m \u001B[49m\u001B[38;5;28;43mself\u001B[39;49m\u001B[38;5;241;43m.\u001B[39;49m\u001B[43mheaders\u001B[49m\u001B[43m,\u001B[49m\u001B[43m \u001B[49m\u001B[43mdict_class\u001B[49m\u001B[38;5;241;43m=\u001B[39;49m\u001B[43mCaseInsensitiveDict\u001B[49m\n\u001B[0;32m    494\u001B[0m \u001B[43m    \u001B[49m\u001B[43m)\u001B[49m\u001B[43m,\u001B[49m\n\u001B[0;32m    495\u001B[0m \u001B[43m    \u001B[49m\u001B[43mparams\u001B[49m\u001B[38;5;241;43m=\u001B[39;49m\u001B[43mmerge_setting\u001B[49m\u001B[43m(\u001B[49m\u001B[43mrequest\u001B[49m\u001B[38;5;241;43m.\u001B[39;49m\u001B[43mparams\u001B[49m\u001B[43m,\u001B[49m\u001B[43m \u001B[49m\u001B[38;5;28;43mself\u001B[39;49m\u001B[38;5;241;43m.\u001B[39;49m\u001B[43mparams\u001B[49m\u001B[43m)\u001B[49m\u001B[43m,\u001B[49m\n\u001B[0;32m    496\u001B[0m \u001B[43m    \u001B[49m\u001B[43mauth\u001B[49m\u001B[38;5;241;43m=\u001B[39;49m\u001B[43mmerge_setting\u001B[49m\u001B[43m(\u001B[49m\u001B[43mauth\u001B[49m\u001B[43m,\u001B[49m\u001B[43m \u001B[49m\u001B[38;5;28;43mself\u001B[39;49m\u001B[38;5;241;43m.\u001B[39;49m\u001B[43mauth\u001B[49m\u001B[43m)\u001B[49m\u001B[43m,\u001B[49m\n\u001B[0;32m    497\u001B[0m \u001B[43m    \u001B[49m\u001B[43mcookies\u001B[49m\u001B[38;5;241;43m=\u001B[39;49m\u001B[43mmerged_cookies\u001B[49m\u001B[43m,\u001B[49m\n\u001B[0;32m    498\u001B[0m \u001B[43m    \u001B[49m\u001B[43mhooks\u001B[49m\u001B[38;5;241;43m=\u001B[39;49m\u001B[43mmerge_hooks\u001B[49m\u001B[43m(\u001B[49m\u001B[43mrequest\u001B[49m\u001B[38;5;241;43m.\u001B[39;49m\u001B[43mhooks\u001B[49m\u001B[43m,\u001B[49m\u001B[43m \u001B[49m\u001B[38;5;28;43mself\u001B[39;49m\u001B[38;5;241;43m.\u001B[39;49m\u001B[43mhooks\u001B[49m\u001B[43m)\u001B[49m\u001B[43m,\u001B[49m\n\u001B[0;32m    499\u001B[0m \u001B[43m\u001B[49m\u001B[43m)\u001B[49m\n\u001B[0;32m    500\u001B[0m \u001B[38;5;28;01mreturn\u001B[39;00m p\n",
      "File \u001B[1;32m~\\PycharmProjects\\jss_tutorials\\.venv\\lib\\site-packages\\requests\\models.py:371\u001B[0m, in \u001B[0;36mPreparedRequest.prepare\u001B[1;34m(self, method, url, headers, files, data, params, auth, cookies, hooks, json)\u001B[0m\n\u001B[0;32m    369\u001B[0m \u001B[38;5;28mself\u001B[39m\u001B[38;5;241m.\u001B[39mprepare_headers(headers)\n\u001B[0;32m    370\u001B[0m \u001B[38;5;28mself\u001B[39m\u001B[38;5;241m.\u001B[39mprepare_cookies(cookies)\n\u001B[1;32m--> 371\u001B[0m \u001B[38;5;28;43mself\u001B[39;49m\u001B[38;5;241;43m.\u001B[39;49m\u001B[43mprepare_body\u001B[49m\u001B[43m(\u001B[49m\u001B[43mdata\u001B[49m\u001B[43m,\u001B[49m\u001B[43m \u001B[49m\u001B[43mfiles\u001B[49m\u001B[43m,\u001B[49m\u001B[43m \u001B[49m\u001B[43mjson\u001B[49m\u001B[43m)\u001B[49m\n\u001B[0;32m    372\u001B[0m \u001B[38;5;28mself\u001B[39m\u001B[38;5;241m.\u001B[39mprepare_auth(auth, url)\n\u001B[0;32m    374\u001B[0m \u001B[38;5;66;03m# Note that prepare_auth must be last to enable authentication schemes\u001B[39;00m\n\u001B[0;32m    375\u001B[0m \u001B[38;5;66;03m# such as OAuth to work on a fully prepared request.\u001B[39;00m\n\u001B[0;32m    376\u001B[0m \n\u001B[0;32m    377\u001B[0m \u001B[38;5;66;03m# This MUST go after prepare_auth. Authenticators could add a hook\u001B[39;00m\n",
      "File \u001B[1;32m~\\PycharmProjects\\jss_tutorials\\.venv\\lib\\site-packages\\requests\\models.py:556\u001B[0m, in \u001B[0;36mPreparedRequest.prepare_body\u001B[1;34m(self, data, files, json)\u001B[0m\n\u001B[0;32m    553\u001B[0m \u001B[38;5;28;01melse\u001B[39;00m:\n\u001B[0;32m    554\u001B[0m     \u001B[38;5;66;03m# Multi-part file uploads.\u001B[39;00m\n\u001B[0;32m    555\u001B[0m     \u001B[38;5;28;01mif\u001B[39;00m files:\n\u001B[1;32m--> 556\u001B[0m         (body, content_type) \u001B[38;5;241m=\u001B[39m \u001B[38;5;28;43mself\u001B[39;49m\u001B[38;5;241;43m.\u001B[39;49m\u001B[43m_encode_files\u001B[49m\u001B[43m(\u001B[49m\u001B[43mfiles\u001B[49m\u001B[43m,\u001B[49m\u001B[43m \u001B[49m\u001B[43mdata\u001B[49m\u001B[43m)\u001B[49m\n\u001B[0;32m    557\u001B[0m     \u001B[38;5;28;01melse\u001B[39;00m:\n\u001B[0;32m    558\u001B[0m         \u001B[38;5;28;01mif\u001B[39;00m data:\n",
      "File \u001B[1;32m~\\PycharmProjects\\jss_tutorials\\.venv\\lib\\site-packages\\requests\\models.py:191\u001B[0m, in \u001B[0;36mRequestEncodingMixin._encode_files\u001B[1;34m(files, data)\u001B[0m\n\u001B[0;32m    189\u001B[0m     fdata \u001B[38;5;241m=\u001B[39m fp\n\u001B[0;32m    190\u001B[0m \u001B[38;5;28;01melif\u001B[39;00m \u001B[38;5;28mhasattr\u001B[39m(fp, \u001B[38;5;124m\"\u001B[39m\u001B[38;5;124mread\u001B[39m\u001B[38;5;124m\"\u001B[39m):\n\u001B[1;32m--> 191\u001B[0m     fdata \u001B[38;5;241m=\u001B[39m \u001B[43mfp\u001B[49m\u001B[38;5;241;43m.\u001B[39;49m\u001B[43mread\u001B[49m\u001B[43m(\u001B[49m\u001B[43m)\u001B[49m\n\u001B[0;32m    192\u001B[0m \u001B[38;5;28;01melif\u001B[39;00m fp \u001B[38;5;129;01mis\u001B[39;00m \u001B[38;5;28;01mNone\u001B[39;00m:\n\u001B[0;32m    193\u001B[0m     \u001B[38;5;28;01mcontinue\u001B[39;00m\n",
      "\u001B[1;31mValueError\u001B[0m: read of closed file"
     ]
    }
   ],
   "source": [
    "response = requests.request(method=\"POST\",\n",
    "                            url=api_url,\n",
    "                            headers=headers,\n",
    "                            data=payload,\n",
    "                            files=files)"
   ],
   "metadata": {
    "collapsed": false,
    "ExecuteTime": {
     "end_time": "2024-01-31T03:43:03.599500800Z",
     "start_time": "2024-01-31T03:43:03.342131700Z"
    }
   },
   "id": "f078254e9ea6141f"
  },
  {
   "cell_type": "code",
   "execution_count": null,
   "outputs": [],
   "source": [
    "result = response.json()"
   ],
   "metadata": {
    "collapsed": false,
    "ExecuteTime": {
     "start_time": "2024-01-31T03:43:03.584892500Z"
    }
   },
   "id": "f6b13e0395e62883"
  },
  {
   "cell_type": "code",
   "outputs": [],
   "source": [
    "result"
   ],
   "metadata": {
    "collapsed": false,
    "ExecuteTime": {
     "start_time": "2024-01-31T03:43:03.586171900Z"
    }
   },
   "id": "3efd37ec0f062b9a",
   "execution_count": null
  },
  {
   "cell_type": "code",
   "execution_count": null,
   "outputs": [],
   "source": [
    "field_list = result[\"images\"][0][\"fields\"]\n",
    "\n",
    "for i in range(len(field_list)):\n",
    "    print(field_list[i][\"inferText\"])"
   ],
   "metadata": {
    "collapsed": false,
    "ExecuteTime": {
     "start_time": "2024-01-31T03:43:03.589360500Z"
    }
   },
   "id": "cbd7595551a9a60d"
  },
  {
   "cell_type": "code",
   "execution_count": null,
   "outputs": [],
   "source": [
    "img = cv2.imread(path)\n",
    "roi_img = img.copy()\n",
    "\n",
    "for field in result['images'][0]['fields']:\n",
    "    text = field['inferText']\n",
    "    vertices_list = field['boundingPoly']['vertices']\n",
    "    pts = [tuple(vertice.values()) for vertice in vertices_list]\n",
    "    topLeft = [int(_) for _ in pts[0]]\n",
    "    topRight = [int(_) for _ in pts[1]]\n",
    "    bottomRight = [int(_) for _ in pts[2]]\n",
    "    bottomLeft = [int(_) for _ in pts[3]]\n",
    "\n",
    "    cv2.line(roi_img, topLeft, topRight, (0, 255, 0), 2)\n",
    "    cv2.line(roi_img, topRight, bottomRight, (0, 255, 0), 2)\n",
    "    cv2.line(roi_img, bottomRight, bottomLeft, (0, 255, 0), 2)\n",
    "    cv2.line(roi_img, bottomLeft, topLeft, (0, 255, 0), 2)\n",
    "    roi_img = put_text(roi_img, text, topLeft[0], topLeft[1] - 10, font_size=30)\n",
    "\n",
    "    print(text)\n",
    "\n",
    "plt_imshow([\"Original\", \"ROI\"], [img, roi_img], figsize=(16, 10))"
   ],
   "metadata": {
    "collapsed": false,
    "ExecuteTime": {
     "start_time": "2024-01-31T03:43:03.590414600Z"
    }
   },
   "id": "92fca4b79769e7d3"
  },
  {
   "cell_type": "code",
   "outputs": [],
   "source": [],
   "metadata": {
    "collapsed": false,
    "ExecuteTime": {
     "start_time": "2024-01-31T03:43:03.593044300Z"
    }
   },
   "id": "8d170ed4a64a4782",
   "execution_count": null
  }
 ],
 "metadata": {
  "kernelspec": {
   "display_name": "Python 3",
   "language": "python",
   "name": "python3"
  },
  "language_info": {
   "codemirror_mode": {
    "name": "ipython",
    "version": 2
   },
   "file_extension": ".py",
   "mimetype": "text/x-python",
   "name": "python",
   "nbconvert_exporter": "python",
   "pygments_lexer": "ipython2",
   "version": "2.7.6"
  }
 },
 "nbformat": 4,
 "nbformat_minor": 5
}
