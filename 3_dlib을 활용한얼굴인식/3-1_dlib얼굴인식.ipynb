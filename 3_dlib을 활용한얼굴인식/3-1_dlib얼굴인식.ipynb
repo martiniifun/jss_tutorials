{
 "cells": [
  {
   "cell_type": "markdown",
   "id": "abb76b47504461c5",
   "metadata": {
    "collapsed": false
   },
   "source": [
    "# dlib 라이브러리로 Face Recognition 수행하기\n",
    "\n",
    "dlib은 얼굴 관련 기본 예측모델과 응용모델을 제공해주는 고마운 라이브러리입니다. \n",
    "\n",
    "아래 예시는 얼굴의 눈코입, 눈썹 턱선 등 랜드마크 포인트 68개의 점을\n",
    "\n",
    "추출하는 예시입니다. ZOOM의 눈썹, 입술 메이크업이나\n",
    "\n",
    "카메라효과로 유명한 SNOW 어플 등에서 많이 활용하는 기능이고,\n",
    "\n",
    "눈을 감았는지 떴는지, 입을 벌렸는지 등을 판단할 수 있기 때문에\n",
    "\n",
    "운전자 졸음예측(drowsiness detection),\n",
    "\n",
    "얼굴 반듯하게 정렬(face alignment) 및\n",
    "\n",
    "신원인식 등 다양한 분야에 landmarking이 사용됩니다.\n",
    "\n",
    "![](https://i.ibb.co/yNrsv4b/landmarks.png)\n",
    "\n",
    "아래 이미지에서 랜드마크를 추출해봅시다.\n",
    "\n",
    "![](https://i.ibb.co/ZdyyTBT/face.jpg)\n"
   ]
  },
  {
   "cell_type": "code",
   "execution_count": 3,
   "id": "af8c68cbd41a1f6e",
   "metadata": {
    "collapsed": false,
    "ExecuteTime": {
     "end_time": "2024-02-04T07:39:07.734573600Z",
     "start_time": "2024-02-04T07:38:31.673638900Z"
    }
   },
   "outputs": [
    {
     "name": "stderr",
     "output_type": "stream",
     "text": [
      "Cloning into 'dlib-models'...\n",
      "Updating files:  84% (16/19)\n",
      "Updating files:  89% (17/19)\n",
      "Updating files:  94% (18/19)\n",
      "Updating files: 100% (19/19)\n",
      "Updating files: 100% (19/19), done.\n"
     ]
    }
   ],
   "source": [
    "# 전체 예측모델 다운로드/압축해제 후 취사선택 가능\n",
    "!git clone https://github.com/davisking/dlib-models.git"
   ]
  },
  {
   "cell_type": "code",
   "outputs": [
    {
     "name": "stdout",
     "output_type": "stream",
     "text": [
      "Requirement already satisfied: gdown in c:\\users\\administrator\\pycharmprojects\\jss_tutorials\\.venv\\lib\\site-packages (5.0.1)\n",
      "Requirement already satisfied: beautifulsoup4 in c:\\users\\administrator\\pycharmprojects\\jss_tutorials\\.venv\\lib\\site-packages (from gdown) (4.12.3)\n",
      "Requirement already satisfied: filelock in c:\\users\\administrator\\pycharmprojects\\jss_tutorials\\.venv\\lib\\site-packages (from gdown) (3.13.1)\n",
      "Requirement already satisfied: requests[socks] in c:\\users\\administrator\\pycharmprojects\\jss_tutorials\\.venv\\lib\\site-packages (from gdown) (2.31.0)\n",
      "Requirement already satisfied: tqdm in c:\\users\\administrator\\pycharmprojects\\jss_tutorials\\.venv\\lib\\site-packages (from gdown) (4.66.1)\n",
      "Requirement already satisfied: soupsieve>1.2 in c:\\users\\administrator\\pycharmprojects\\jss_tutorials\\.venv\\lib\\site-packages (from beautifulsoup4->gdown) (2.5)\n",
      "Requirement already satisfied: charset-normalizer<4,>=2 in c:\\users\\administrator\\pycharmprojects\\jss_tutorials\\.venv\\lib\\site-packages (from requests[socks]->gdown) (3.3.2)\n",
      "Requirement already satisfied: idna<4,>=2.5 in c:\\users\\administrator\\pycharmprojects\\jss_tutorials\\.venv\\lib\\site-packages (from requests[socks]->gdown) (2.10)\n",
      "Requirement already satisfied: urllib3<3,>=1.21.1 in c:\\users\\administrator\\pycharmprojects\\jss_tutorials\\.venv\\lib\\site-packages (from requests[socks]->gdown) (2.1.0)\n",
      "Requirement already satisfied: certifi>=2017.4.17 in c:\\users\\administrator\\pycharmprojects\\jss_tutorials\\.venv\\lib\\site-packages (from requests[socks]->gdown) (2023.7.22)\n",
      "Requirement already satisfied: PySocks!=1.5.7,>=1.5.6 in c:\\users\\administrator\\pycharmprojects\\jss_tutorials\\.venv\\lib\\site-packages (from requests[socks]->gdown) (1.7.1)\n",
      "Requirement already satisfied: colorama in c:\\users\\administrator\\pycharmprojects\\jss_tutorials\\.venv\\lib\\site-packages (from tqdm->gdown) (0.4.6)\n",
      "Note: you may need to restart the kernel to use updated packages.\n"
     ]
    },
    {
     "name": "stderr",
     "output_type": "stream",
     "text": [
      "\n",
      "[notice] A new release of pip is available: 23.3.2 -> 24.0\n",
      "[notice] To update, run: python.exe -m pip install --upgrade pip\n",
      "Downloading...\n",
      "From: https://drive.google.com/uc?id=13pN7jYwdpNqfWHPG-tg2Cv31xtiekb2t\n",
      "To: C:\\Users\\Administrator\\PycharmProjects\\jss_tutorials\\3_dlib을 활용한얼굴인식\\shape_predictor_68_face_landmarks.dat\n",
      "100%|██████████| 99.7M/99.7M [00:03<00:00, 27.5MB/s]\n"
     ]
    },
    {
     "data": {
      "text/plain": "'shape_predictor_68_face_landmarks.dat'"
     },
     "execution_count": 2,
     "metadata": {},
     "output_type": "execute_result"
    }
   ],
   "source": [
    "# 단, 위 레포지토리는 용량이 꽤 크고 \n",
    "# 정리하기도 까다롭습니다.\n",
    "\n",
    "# 아래 예제에서 사용할 \n",
    "# 얼굴 랜드마크 포인트 97개 추출용 dat파일(99.7MB)\n",
    "# 하나만 다운받고 싶으시면\n",
    "\n",
    "%pip install gdown\n",
    "\n",
    "import gdown\n",
    "gdown.download('https://drive.google.com/uc?id=13pN7jYwdpNqfWHPG-tg2Cv31xtiekb2t')"
   ],
   "metadata": {
    "collapsed": false,
    "ExecuteTime": {
     "end_time": "2024-02-04T07:25:58.426810800Z",
     "start_time": "2024-02-04T07:25:48.126639500Z"
    }
   },
   "id": "438affdf21627f27",
   "execution_count": 2
  },
  {
   "cell_type": "code",
   "outputs": [],
   "source": [
    "# dlib 라이브러리는 바로 pip로 설치하지 말고,\n",
    "# 아래 링크를 참고해서 설치해주세요.\n",
    "# https://m.blog.naver.com/chandong83/222459722192\n",
    "\n",
    "# 여러가지 다른 방법(소스코드를 다운받아 직접 컴파일 등)이\n",
    "# 있지만, 위 방법이 가장 간단합니다.\n",
    "\n",
    "# 리눅스에서는 간단하게 `pip install dlib`으로 \n",
    "# 설치하실 수 있습니다. "
   ],
   "metadata": {
    "collapsed": false
   },
   "id": "64c8e81c9499dc91"
  },
  {
   "cell_type": "code",
   "execution_count": 1,
   "id": "ea871ad82877c5a9",
   "metadata": {
    "collapsed": false,
    "ExecuteTime": {
     "end_time": "2024-02-03T13:19:13.740702800Z",
     "start_time": "2024-02-03T13:19:11.907079200Z"
    }
   },
   "outputs": [],
   "source": [
    "from urllib.request import urlretrieve\n",
    "import numpy as np\n",
    "import dlib\n",
    "import cv2\n",
    "import gdown"
   ]
  },
  {
   "cell_type": "code",
   "execution_count": 2,
   "id": "dfc0b2dc6422d719",
   "metadata": {
    "collapsed": false,
    "ExecuteTime": {
     "end_time": "2024-02-03T13:19:13.830096800Z",
     "start_time": "2024-02-03T13:19:13.728628100Z"
    }
   },
   "outputs": [],
   "source": [
    "# 68개의 facial landmark 정의\n",
    "RIGHT_EYE = list(range(36, 42))\n",
    "LEFT_EYE = list(range(42, 48))\n",
    "EYES = list(range(36, 48))\n",
    "MOUTH = list(range(48, 68))\n",
    "NOSE = list(range(27, 36))\n",
    "EYEBROWS = list(range(17, 27))\n",
    "JAWLINE = list(range(1, 17))\n",
    "ALL = list(range(0, 68))"
   ]
  },
  {
   "cell_type": "code",
   "execution_count": 8,
   "id": "d0794c2135ed518f",
   "metadata": {
    "collapsed": false,
    "ExecuteTime": {
     "end_time": "2024-02-03T13:19:56.718383600Z",
     "start_time": "2024-02-03T13:19:46.020015900Z"
    }
   },
   "outputs": [
    {
     "name": "stderr",
     "output_type": "stream",
     "text": [
      "Downloading...\n",
      "From: https://drive.google.com/uc?id=13pN7jYwdpNqfWHPG-tg2Cv31xtiekb2t\n",
      "To: C:\\Users\\Administrator\\PycharmProjects\\jss_tutorials\\3_dlib을 활용한얼굴인식\\shape_predictor_68_face_landmarks.dat\n",
      "100%|██████████| 99.7M/99.7M [00:05<00:00, 19.0MB/s]\n"
     ]
    }
   ],
   "source": [
    "urlretrieve(\"https://i.ibb.co/ZdyyTBT/face.jpg\")\n",
    "image_file = './face2.jpg'\n",
    "\n",
    "gdown.download(\"https://drive.google.com/uc?id=13pN7jYwdpNqfWHPG-tg2Cv31xtiekb2t\")\n",
    "predictor_file = \"./shape_predictor_68_face_landmarks.dat\""
   ]
  },
  {
   "cell_type": "code",
   "execution_count": 10,
   "id": "3bbc3ddd05b26689",
   "metadata": {
    "collapsed": false,
    "ExecuteTime": {
     "end_time": "2024-02-03T13:20:22.850677Z",
     "start_time": "2024-02-03T13:20:15.684515400Z"
    }
   },
   "outputs": [],
   "source": [
    "detector = dlib.get_frontal_face_detector()\n",
    "predictor = dlib.shape_predictor(predictor_file)"
   ]
  },
  {
   "cell_type": "code",
   "execution_count": 11,
   "id": "cc4159a90ff0a693",
   "metadata": {
    "collapsed": false,
    "ExecuteTime": {
     "end_time": "2024-02-03T13:20:22.922746Z",
     "start_time": "2024-02-03T13:20:22.856717Z"
    }
   },
   "outputs": [],
   "source": [
    "image = cv2.imread(image_file)\n",
    "gray = cv2.cvtColor(image, cv2.COLOR_BGR2GRAY)"
   ]
  },
  {
   "cell_type": "code",
   "execution_count": 12,
   "id": "1137754776f6ad5f",
   "metadata": {
    "collapsed": false,
    "ExecuteTime": {
     "end_time": "2024-02-03T13:20:23.900979900Z",
     "start_time": "2024-02-03T13:20:22.920715800Z"
    }
   },
   "outputs": [
    {
     "name": "stdout",
     "output_type": "stream",
     "text": [
      "Number of faces detected: 1\n"
     ]
    }
   ],
   "source": [
    "rects = detector(gray, 1)\n",
    "print(f\"Number of faces detected: {len(rects)}\")"
   ]
  },
  {
   "cell_type": "code",
   "execution_count": null,
   "id": "9bd489deba8aaa97",
   "metadata": {
    "collapsed": false,
    "is_executing": true,
    "ExecuteTime": {
     "start_time": "2024-02-03T13:20:23.912532900Z"
    }
   },
   "outputs": [],
   "source": [
    "for i, rect in enumerate(rects):\n",
    "    points = np.matrix([[p.x, p.y] for p in predictor(gray, rect).parts()])\n",
    "    show_parts = points[ALL]\n",
    "    \n",
    "    for j, point in enumerate(show_parts):\n",
    "        x = point[0,0]\n",
    "        y = point[0,1]\n",
    "        cv2.circle(image, (x, y), 5, (0, 255, 255), -1)\n",
    "        cv2.putText(image, f\"{j + 1}\", (x, y-2), cv2.FONT_HERSHEY_SIMPLEX, 0.5, (0, 255, 0), 1)\n",
    "\n",
    "cv2.imshow(\"final image\", image)\n",
    "cv2.waitKey(0)  # 아무 키나 누르면 종료됨\n",
    "cv2.destroyAllWindows()\n",
    "cv2.imwrite(\"face_output.jpg\", image)"
   ]
  },
  {
   "cell_type": "markdown",
   "id": "10e978bdd18beaee",
   "metadata": {
    "collapsed": false
   },
   "source": [
    "![](https://i.ibb.co/R95NT3N/face-output.jpg)"
   ]
  },
  {
   "cell_type": "markdown",
   "id": "2c51e3cbc4822d3a",
   "metadata": {
    "collapsed": false
   },
   "source": [
    "\n",
    "이 모델은 얼굴이 두 개 이상이라도 문제없이 예측합니다.\n",
    "\n",
    "그런데 이상한 점이 하나 있습니다.\n",
    "\n",
    "아래 사진의 인물은 한 명도 예측하지 못합니다.\n",
    "\n",
    "아쉽지만 정면으로 반듯한 얼굴로 훈련을 많이 했기 때문에\n",
    "\n",
    "90도 가까이 회전되어 있는 얼굴에서는\n",
    "\n",
    "랜드마크를 추출하기가 쉽지 않습니다.\n",
    "\n",
    "(훈련데이터가 부족한 탓이기도 합니다.)\n",
    "\n",
    "![](https://i.ibb.co/VJ5QWK6/faces.jpg)\n"
   ]
  },
  {
   "cell_type": "code",
   "execution_count": 126,
   "id": "aa5d0ac2d9cd0fa",
   "metadata": {
    "ExecuteTime": {
     "end_time": "2024-02-01T13:18:51.016489Z",
     "start_time": "2024-02-01T13:18:48.812139300Z"
    },
    "collapsed": false
   },
   "outputs": [
    {
     "name": "stdout",
     "output_type": "stream",
     "text": [
      "Number of faces detected: 0\n"
     ]
    },
    {
     "data": {
      "text/plain": [
       "True"
      ]
     },
     "execution_count": 126,
     "metadata": {},
     "output_type": "execute_result"
    }
   ],
   "source": [
    "urlretrieve(\"https://i.ibb.co/VJ5QWK6/faces.jpg\")\n",
    "image_file = './faces.jpg'\n",
    "image = cv2.imread(image_file)\n",
    "gray = cv2.cvtColor(image, cv2.COLOR_BGR2GRAY)\n",
    "rects = detector(gray, 1)\n",
    "print(f\"Number of faces detected: {len(rects)}\")\n",
    "for i, rect in enumerate(rects):\n",
    "    points = np.matrix([[p.x, p.y] for p in predictor(gray, rect).parts()])\n",
    "    show_parts = points[ALL]\n",
    "    \n",
    "    for j, point in enumerate(show_parts):\n",
    "        x = point[0,0]\n",
    "        y = point[0,1]\n",
    "        cv2.circle(image, (x, y), 5, (0, 255, 255), -1)\n",
    "        cv2.putText(image, f\"{j + 1}\", (x, y-2), cv2.FONT_HERSHEY_SIMPLEX, 0.5, (0, 255, 0), 1)\n",
    "\n",
    "cv2.imshow(\"final image\", image)\n",
    "cv2.waitKey(0)  # 아무 키나 누르면 종료됨\n",
    "cv2.destroyAllWindows()\n",
    "cv2.imwrite(\"face2_output.jpg\", image)"
   ]
  },
  {
   "cell_type": "markdown",
   "id": "5d9a919ae1ea50b",
   "metadata": {
    "collapsed": false
   },
   "source": [
    "0명으로 예측하네요. 회전해보면 어떨까요?\n",
    "\n"
   ]
  },
  {
   "cell_type": "code",
   "execution_count": 127,
   "id": "635a51705517e6fc",
   "metadata": {
    "ExecuteTime": {
     "end_time": "2024-02-01T13:18:51.815666700Z",
     "start_time": "2024-02-01T13:18:50.981265400Z"
    },
    "collapsed": false
   },
   "outputs": [
    {
     "name": "stdout",
     "output_type": "stream",
     "text": [
      "Number of faces detected: 2\n"
     ]
    },
    {
     "data": {
      "text/plain": [
       "True"
      ]
     },
     "execution_count": 127,
     "metadata": {},
     "output_type": "execute_result"
    }
   ],
   "source": [
    "image_file = './faces_l.jpg'\n",
    "image = cv2.imread(image_file)\n",
    "gray = cv2.cvtColor(image, cv2.COLOR_BGR2GRAY)\n",
    "rects = detector(gray, 1)\n",
    "print(f\"Number of faces detected: {len(rects)}\")\n",
    "for i, rect in enumerate(rects):\n",
    "    points = np.matrix([[p.x, p.y] for p in predictor(gray, rect).parts()])\n",
    "    show_parts = points[ALL]\n",
    "    \n",
    "    for j, point in enumerate(show_parts):\n",
    "        x = point[0,0]\n",
    "        y = point[0,1]\n",
    "        cv2.circle(image, (x, y), 5, (0, 255, 255), -1)\n",
    "        cv2.putText(image, f\"{j + 1}\", (x, y-2), cv2.FONT_HERSHEY_SIMPLEX, 0.5, (0, 255, 0), 1)\n",
    "\n",
    "cv2.imshow(\"final image\", image)\n",
    "cv2.waitKey(0)  # 아무 키나 누르면 종료됨\n",
    "cv2.destroyAllWindows()\n",
    "cv2.imwrite(\"faces_l_output.jpg\", image)"
   ]
  },
  {
   "cell_type": "markdown",
   "id": "de25f19926b59aca",
   "metadata": {
    "collapsed": false
   },
   "source": [
    "![](https://i.ibb.co/xLvmsKt/faces-l-output.jpg)\n",
    "\n",
    "얼굴이 반듯해진 두 사람만 잘 예측해주네요^^\n",
    "\n",
    "편리하게 쓸 수 있는 기본모델이지만 아쉬운 부분이 있긴 하네요.\n",
    "\n",
    "아래는 우리나라 가수 부석순입니다.\n",
    "\n",
    "![](https://i.ibb.co/LxKbftS/bss.jpg)"
   ]
  },
  {
   "cell_type": "code",
   "execution_count": 128,
   "id": "aeeb2588859ad8f7",
   "metadata": {
    "ExecuteTime": {
     "end_time": "2024-02-01T13:18:53.442355600Z",
     "start_time": "2024-02-01T13:18:51.806624400Z"
    },
    "collapsed": false
   },
   "outputs": [
    {
     "name": "stdout",
     "output_type": "stream",
     "text": [
      "Number of faces detected: 3\n"
     ]
    },
    {
     "data": {
      "text/plain": [
       "True"
      ]
     },
     "execution_count": 128,
     "metadata": {},
     "output_type": "execute_result"
    }
   ],
   "source": [
    "urlretrieve(\"https://i.ibb.co/LxKbftS/bss.jpg\")\n",
    "image_file = './bss.jpg'  # 파일명에 한글을 쓰면 오류가 남(부석순)\n",
    "image = cv2.imread(image_file)\n",
    "gray = cv2.cvtColor(image, cv2.COLOR_BGR2GRAY)\n",
    "rects = detector(gray, 1)\n",
    "print(f\"Number of faces detected: {len(rects)}\")\n",
    "for i, rect in enumerate(rects):\n",
    "    points = np.matrix([[p.x, p.y] for p in predictor(gray, rect).parts()])\n",
    "    show_parts = points[ALL]\n",
    "    \n",
    "    for j, point in enumerate(show_parts):\n",
    "        x = point[0,0]\n",
    "        y = point[0,1]\n",
    "        cv2.circle(image, (x, y), 1, (0, 255, 255), -1)\n",
    "        cv2.putText(image, f\"{j + 1}\", (x, y-2), cv2.FONT_HERSHEY_SIMPLEX, 0.2, (0, 255, 0), 1)\n",
    "\n",
    "cv2.imshow(\"final image\", image)\n",
    "cv2.waitKey(0)  # 아무 키나 누르면 종료됨\n",
    "cv2.destroyAllWindows()\n",
    "cv2.imwrite(\"./bss_output.jpg\", image)"
   ]
  },
  {
   "cell_type": "markdown",
   "id": "e4d3289cea32131e",
   "metadata": {
    "collapsed": false
   },
   "source": [
    "\n",
    "![](https://i.ibb.co/j4bgCFL/bss-output.jpg)\n",
    "\n",
    "여러분의 사진, 여러분이 가지고 있는 얼굴 사진으로도 한 번 예측해보시기 바랍니다.\n",
    "\n",
    "다음 챕터에서는 동영상 랜드마크 추출 후에, 졸읍분석을 해 보겠습니다."
   ]
  },
  {
   "cell_type": "code",
   "execution_count": 128,
   "id": "5049da708686f32c",
   "metadata": {
    "ExecuteTime": {
     "end_time": "2024-02-01T13:18:53.448004200Z",
     "start_time": "2024-02-01T13:18:53.431065800Z"
    },
    "collapsed": false
   },
   "outputs": [],
   "source": []
  }
 ],
 "metadata": {
  "kernelspec": {
   "display_name": "Python 3 (ipykernel)",
   "language": "python",
   "name": "python3"
  },
  "language_info": {
   "codemirror_mode": {
    "name": "ipython",
    "version": 3
   },
   "file_extension": ".py",
   "mimetype": "text/x-python",
   "name": "python",
   "nbconvert_exporter": "python",
   "pygments_lexer": "ipython3",
   "version": "3.10.11"
  }
 },
 "nbformat": 4,
 "nbformat_minor": 5
}
